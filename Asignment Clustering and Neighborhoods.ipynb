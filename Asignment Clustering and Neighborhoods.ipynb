{
    "nbformat_minor": 1, 
    "cells": [
        {
            "source": "# Course Applied Data Science Capstone\n## Peer-graded Assignment: Segmenting and Clustering Neighborhoods in Toronto", 
            "cell_type": "markdown", 
            "metadata": {
                "collapsed": true
            }
        }, 
        {
            "source": "For the current assignment it will be developed the following section\n1. Creat a new Workbook\n2. Scrape the Wikipwdia webseite https://en.wikipedia.org/wiki/List_of_postal_codes_of_Canada:_M\n3. Create the dataframe shown in the asisgnment instructions", 
            "cell_type": "markdown", 
            "metadata": {}
        }, 
        {
            "source": "### 1. Crete a new Workbook", 
            "cell_type": "markdown", 
            "metadata": {}
        }, 
        {
            "source": "A new Notebook has been vreated in the Project Coursera Capstone in IBM Watson. The ", 
            "cell_type": "markdown", 
            "metadata": {}
        }
    ], 
    "metadata": {
        "kernelspec": {
            "display_name": "Python 3.5", 
            "name": "python3", 
            "language": "python"
        }, 
        "language_info": {
            "mimetype": "text/x-python", 
            "nbconvert_exporter": "python", 
            "version": "3.5.5", 
            "name": "python", 
            "file_extension": ".py", 
            "pygments_lexer": "ipython3", 
            "codemirror_mode": {
                "version": 3, 
                "name": "ipython"
            }
        }
    }, 
    "nbformat": 4
}