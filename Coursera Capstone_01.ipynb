{
    "nbformat_minor": 2, 
    "cells": [
        {
            "execution_count": 1, 
            "cell_type": "code", 
            "metadata": {}, 
            "outputs": [
                {
                    "output_type": "stream", 
                    "name": "stdout", 
                    "text": "Collecting package metadata: done\nSolving environment: done\n\n## Package Plan ##\n\n  environment location: /home/jupyterlab/conda\n\n  added / updated specs:\n    - folium=0.5.0\n\n\nThe following packages will be downloaded:\n\n    package                    |            build\n    ---------------------------|-----------------\n    conda-4.6.7                |           py36_0         869 KB  conda-forge\n    openssl-1.1.1b             |       h14c3975_0         4.0 MB  conda-forge\n    ------------------------------------------------------------\n                                           Total:         4.8 MB\n\nThe following packages will be UPDATED:\n\n  conda                                        4.6.4-py36_0 --> 4.6.7-py36_0\n  openssl                              1.1.1a-h14c3975_1000 --> 1.1.1b-h14c3975_0\n\n\n\nDownloading and Extracting Packages\nconda-4.6.7          | 869 KB    | ##################################### | 100% \nopenssl-1.1.1b       | 4.0 MB    | ##################################### | 100% \nPreparing transaction: done\nVerifying transaction: done\nExecuting transaction: done\nCollecting pgeocode\n  Downloading https://files.pythonhosted.org/packages/40/32/477ae060daf5a54a26caeb7c63901bb8c017c70fc8888c3073e29a11982e/pgeocode-0.1.1-py2.py3-none-any.whl\nRequirement already satisfied: requests in /home/jupyterlab/conda/lib/python3.6/site-packages (from pgeocode) (2.21.0)\nRequirement already satisfied: pandas in /home/jupyterlab/conda/lib/python3.6/site-packages (from pgeocode) (0.24.1)\nRequirement already satisfied: numpy in /home/jupyterlab/conda/lib/python3.6/site-packages (from pgeocode) (1.15.4)\nRequirement already satisfied: chardet<3.1.0,>=3.0.2 in /home/jupyterlab/conda/lib/python3.6/site-packages (from requests->pgeocode) (3.0.4)\nRequirement already satisfied: certifi>=2017.4.17 in /home/jupyterlab/conda/lib/python3.6/site-packages (from requests->pgeocode) (2018.11.29)\nRequirement already satisfied: urllib3<1.25,>=1.21.1 in /home/jupyterlab/conda/lib/python3.6/site-packages (from requests->pgeocode) (1.24.1)\nRequirement already satisfied: idna<2.9,>=2.5 in /home/jupyterlab/conda/lib/python3.6/site-packages (from requests->pgeocode) (2.8)\nRequirement already satisfied: python-dateutil>=2.5.0 in /home/jupyterlab/conda/lib/python3.6/site-packages (from pandas->pgeocode) (2.7.5)\nRequirement already satisfied: pytz>=2011k in /home/jupyterlab/conda/lib/python3.6/site-packages (from pandas->pgeocode) (2018.9)\nRequirement already satisfied: six>=1.5 in /home/jupyterlab/conda/lib/python3.6/site-packages (from python-dateutil>=2.5.0->pandas->pgeocode) (1.12.0)\nInstalling collected packages: pgeocode\nSuccessfully installed pgeocode-0.1.1\n"
                }
            ], 
            "source": "import numpy as np # library to handle data in a vectorized manner\nimport pandas as pd # library for data analsysis\n\nfrom pandas.io.json import json_normalize # tranform JSON file into a pandas dataframe\n\nfrom sklearn.cluster import KMeans\n\n# Matplotlib and associated plotting modules\nimport matplotlib.cm as cm\nimport matplotlib.colors as colors\nimport matplotlib.pyplot as plt # plotting library\n# backend for rendering plots within the browser\n%matplotlib inline\n\nimport csv\n\n#!pip install request\nimport requests # library to handle requests\n\n#!pip install beautifulsoup4 \nfrom bs4 import BeautifulSoup\n\n#!pip install lxml\n\n#!pip install html5lib\n\n#!conda install -c conda-forge geopy --yes # module Niminatim\nfrom geopy.geocoders import Nominatim # module to convert an address into latitude and longitude values\n\n!conda install -c conda-forge folium=0.5.0 --yes # uncomment this line if you haven't completed the Foursquare API lab\nimport folium\n\n!pip install pgeocode # Postal code geocoding and distance calculations https://pypi.org/project/pgeocode/\nimport pgeocode\n\nfrom collections import OrderedDict\n\nimport math\nfrom difflib import SequenceMatcher"
        }, 
        {
            "source": "# Coursera Course - Applied Data Science Capstone\n## Housing prices - Hamburg", 
            "cell_type": "markdown", 
            "metadata": {}
        }, 
        {
            "source": "### 1. Introduction", 
            "cell_type": "markdown", 
            "metadata": {}
        }, 
        {
            "source": "#### 1.1 Description of the problem\n", 
            "cell_type": "markdown", 
            "metadata": {}
        }, 
        {
            "source": "#### 1.2 Description of the data\n", 
            "cell_type": "markdown", 
            "metadata": {}
        }, 
        {
            "source": "##### i) Boroughs and neighborhoods", 
            "cell_type": "markdown", 
            "metadata": {}
        }, 
        {
            "source": "##### ii) Post codes", 
            "cell_type": "markdown", 
            "metadata": {}
        }, 
        {
            "source": "##### iv) Venues for each Post code?, Neighborhood? or Boroughs", 
            "cell_type": "markdown", 
            "metadata": {}
        }, 
        {
            "source": "##### v) Transport, Train stations, S-Bahn stations, Subway stations, Bus stations", 
            "cell_type": "markdown", 
            "metadata": {}
        }, 
        {
            "source": "##### vi) Housing prices, archiv and current ", 
            "cell_type": "markdown", 
            "metadata": {}
        }, 
        {
            "source": "####  Scrap wikipedia - Boroughs and Neighborhoods of Hamburg", 
            "cell_type": "markdown", 
            "metadata": {}
        }, 
        {
            "execution_count": 2, 
            "cell_type": "code", 
            "metadata": {}, 
            "outputs": [], 
            "source": "wiki_borough_link = \"https://de.wikipedia.org/wiki/Liste_der_Bezirke_und_Stadtteile_Hamburgs#Stadtteile\""
        }, 
        {
            "execution_count": 3, 
            "cell_type": "code", 
            "metadata": {}, 
            "outputs": [], 
            "source": "r= requests.get(wiki_borough_link)\nsoup = BeautifulSoup(r.text,'lxml')"
        }, 
        {
            "execution_count": 4, 
            "cell_type": "code", 
            "metadata": {}, 
            "outputs": [], 
            "source": "#print(soup.prettify())"
        }, 
        {
            "execution_count": 5, 
            "cell_type": "code", 
            "metadata": {}, 
            "outputs": [], 
            "source": "#Definition of the dataframe 'Boroughs and Neighborhoods'\n# define columns\ncol_names = ['neighborhood','borough','area','population', 'coord_nord','coord_east'] \n# initiate dataframe\ndf_neighborhoods = pd.DataFrame(columns=col_names)"
        }, 
        {
            "execution_count": 6, 
            "cell_type": "code", 
            "metadata": {}, 
            "outputs": [], 
            "source": "# Function to transform coordinates from geographic to decimal\ndef convert_decimal(coordinate):\n    coord = ''.join(coordinate.split())[:-2].upper()\n    coord_d, coord_m, coord_s = coord.replace(\"\u00b0\",\"_\").replace(\"\u2032\",\"_\").split('_')                            \n    coord = \"{0:.5f}\".format(float(coord_d) + (float(coord_m) / 60) + (float(coord_s) / 3600))\n    return coord"
        }, 
        {
            "execution_count": 7, 
            "cell_type": "code", 
            "metadata": {}, 
            "outputs": [], 
            "source": "table = soup.find_all('table', class_='wikitable sortable')\n# iterate over it\nwikidatasaved = []\nfor item in table[1].find('tbody').find_all('tr'):\n    wikidata = []\n    for data in item.find_all('td'):\n        wikidata.append(data.text.strip())\n    \n    #print(wikidata[0:8])\n    if len(wikidata) > 0:\n            b, wikidata[0] = wikidata[0].split(\"!\")\n            b, wikidata[3] = wikidata[3].split(\"!\")\n            coord_n, coord_e = wikidata[6].split(\",\")\n            coord_n = convert_decimal(coord_n)\n            coord_e = convert_decimal(coord_e)\n            df_neighborhoods = df_neighborhoods.append({'neighborhood': wikidata[0],'borough': wikidata[2], 'area' : wikidata[3], 'population' : wikidata[4], 'coord_nord':coord_n, 'coord_east':coord_e}, ignore_index=True)\n            "
        }, 
        {
            "execution_count": 8, 
            "cell_type": "code", 
            "metadata": {}, 
            "outputs": [
                {
                    "execution_count": 8, 
                    "metadata": {}, 
                    "data": {
                        "text/html": "<div>\n<style scoped>\n    .dataframe tbody tr th:only-of-type {\n        vertical-align: middle;\n    }\n\n    .dataframe tbody tr th {\n        vertical-align: top;\n    }\n\n    .dataframe thead th {\n        text-align: right;\n    }\n</style>\n<table border=\"1\" class=\"dataframe\">\n  <thead>\n    <tr style=\"text-align: right;\">\n      <th></th>\n      <th>neighborhood</th>\n      <th>borough</th>\n      <th>area</th>\n      <th>population</th>\n      <th>coord_nord</th>\n      <th>coord_east</th>\n    </tr>\n  </thead>\n  <tbody>\n    <tr>\n      <th>81</th>\n      <td>Allerm\u00f6he</td>\n      <td>Bergedorf</td>\n      <td>8,6</td>\n      <td>1361</td>\n      <td>53.48611</td>\n      <td>10.15417</td>\n    </tr>\n    <tr>\n      <th>45</th>\n      <td>Alsterdorf</td>\n      <td>Hamburg-Nord</td>\n      <td>3,2</td>\n      <td>15.031</td>\n      <td>53.61083</td>\n      <td>10.01306</td>\n    </tr>\n    <tr>\n      <th>76</th>\n      <td>Altengamme</td>\n      <td>Bergedorf</td>\n      <td>15,6</td>\n      <td>2246</td>\n      <td>53.42472</td>\n      <td>10.26250</td>\n    </tr>\n    <tr>\n      <th>98</th>\n      <td>Altenwerder</td>\n      <td>Harburg</td>\n      <td>6,7</td>\n      <td>3</td>\n      <td>53.50694</td>\n      <td>9.91778</td>\n    </tr>\n    <tr>\n      <th>19</th>\n      <td>Altona-Altstadt</td>\n      <td>Altona</td>\n      <td>2,8</td>\n      <td>22.946</td>\n      <td>53.54889</td>\n      <td>9.94778</td>\n    </tr>\n  </tbody>\n</table>\n</div>", 
                        "text/plain": "       neighborhood       borough  area population coord_nord coord_east\n81        Allerm\u00f6he     Bergedorf   8,6       1361   53.48611   10.15417\n45       Alsterdorf  Hamburg-Nord   3,2     15.031   53.61083   10.01306\n76       Altengamme     Bergedorf  15,6       2246   53.42472   10.26250\n98      Altenwerder       Harburg   6,7          3   53.50694    9.91778\n19  Altona-Altstadt        Altona   2,8     22.946   53.54889    9.94778"
                    }, 
                    "output_type": "execute_result"
                }
            ], 
            "source": "df_neighborhoods.sort_values(by=['neighborhood']).head()"
        }, 
        {
            "source": "####  Scrap hamburg.de - post codes of hamburg", 
            "cell_type": "markdown", 
            "metadata": {}
        }, 
        {
            "execution_count": 9, 
            "cell_type": "code", 
            "metadata": {}, 
            "outputs": [], 
            "source": "plz_link = \"https://www.hamburg.de/postleitzahlen/\"\nr= requests.get(plz_link)\nsoup = BeautifulSoup(r.text,'lxml')\n#print(soup.prettify())"
        }, 
        {
            "execution_count": 10, 
            "cell_type": "code", 
            "metadata": {}, 
            "outputs": [], 
            "source": "# define columns\ncol_plz_names = ['neighborhood','post_codes'] \n# initiate dataframe\ndf_neigh_plz = pd.DataFrame(columns=col_plz_names)"
        }, 
        {
            "execution_count": 11, 
            "cell_type": "code", 
            "metadata": {}, 
            "outputs": [
                {
                    "execution_count": 11, 
                    "metadata": {}, 
                    "data": {
                        "text/html": "<div>\n<style scoped>\n    .dataframe tbody tr th:only-of-type {\n        vertical-align: middle;\n    }\n\n    .dataframe tbody tr th {\n        vertical-align: top;\n    }\n\n    .dataframe thead th {\n        text-align: right;\n    }\n</style>\n<table border=\"1\" class=\"dataframe\">\n  <thead>\n    <tr style=\"text-align: right;\">\n      <th></th>\n      <th>neighborhood</th>\n      <th>post_codes</th>\n    </tr>\n  </thead>\n  <tbody>\n    <tr>\n      <th>0</th>\n      <td>Allerm\u00f6he</td>\n      <td>21035,21037,21113</td>\n    </tr>\n    <tr>\n      <th>1</th>\n      <td>Alsterdorf</td>\n      <td>20251,22297,22335,22337</td>\n    </tr>\n    <tr>\n      <th>2</th>\n      <td>Altengamme</td>\n      <td>21029,21039</td>\n    </tr>\n    <tr>\n      <th>3</th>\n      <td>Altenwerder</td>\n      <td>21129</td>\n    </tr>\n    <tr>\n      <th>4</th>\n      <td>Altona-Altstadt</td>\n      <td>20359,22765,22767,22769</td>\n    </tr>\n  </tbody>\n</table>\n</div>", 
                        "text/plain": "      neighborhood               post_codes\n0        Allerm\u00f6he        21035,21037,21113\n1       Alsterdorf  20251,22297,22335,22337\n2       Altengamme              21029,21039\n3      Altenwerder                    21129\n4  Altona-Altstadt  20359,22765,22767,22769"
                    }, 
                    "output_type": "execute_result"
                }
            ], 
            "source": "table = soup.find_all('table')\n# iterate over it\n#datasaved = []\nfor item in table[0].find('tbody').find_all('tr'):\n    plzdata = []\n    for data in item.find_all('td'):\n        if data.text.strip() != '':\n            plzdata.append(data.text.strip())\n    df_neigh_plz = df_neigh_plz.append({'neighborhood': plzdata[0],'post_codes': \",\".join(plzdata[1:len(plzdata)])}, ignore_index=True)\n\ndf_neigh_plz.head()"
        }, 
        {
            "execution_count": 12, 
            "cell_type": "code", 
            "metadata": {}, 
            "outputs": [], 
            "source": "# search double entries and join them, the \nmyindex = []\nfor index, row in df_neigh_plz.iterrows():\n    if row[0].find('Forts') > 1:\n        a,b = row[0].split(\" \")\n        myindex.append(index)\n        for ind,row1 in df_neigh_plz.iterrows():\n            if row1[0] == a:\n                #print(a)\n                #print(row[0],\":\",row[1])\n                #print(row1[0],':',row1[1])\n                row1[1] = row1[1] + ',' + row[1]\n                #print(row1[1])\n                \n                break\ndf_neigh_plz.drop(df_neigh_plz.index[myindex], inplace=True)"
        }, 
        {
            "execution_count": 13, 
            "cell_type": "code", 
            "metadata": {}, 
            "outputs": [
                {
                    "execution_count": 13, 
                    "metadata": {}, 
                    "data": {
                        "text/plain": "(104, 2)"
                    }, 
                    "output_type": "execute_result"
                }
            ], 
            "source": "#Verification number of neighborhoods\ndf_neigh_plz.shape"
        }, 
        {
            "execution_count": 14, 
            "cell_type": "code", 
            "metadata": {}, 
            "outputs": [], 
            "source": "# fucntion to evaluate the similarity of two strings\ndef similar(a, b):\n    return SequenceMatcher(None, a, b).ratio()\n\ndf_neigh = pd.merge(df_neighborhoods, df_neigh_plz, on='neighborhood',how='left')\n\nfor index, row in df_neigh.iterrows():\n    #print(row[0],row[6])\n    if isinstance(row[6],str) != True:\n        for index_plz, row_plz in df_neigh_plz.iterrows():\n            if similar(row[0],row_plz[0]) > 0.79:\n                #print('(**)',row[0],row[6],\"<-\",row_plz[0],\" \",row_plz[1])\n                row[6] = row_plz[1]"
        }, 
        {
            "execution_count": 15, 
            "cell_type": "code", 
            "metadata": {}, 
            "outputs": [
                {
                    "execution_count": 15, 
                    "metadata": {}, 
                    "data": {
                        "text/html": "<div>\n<style scoped>\n    .dataframe tbody tr th:only-of-type {\n        vertical-align: middle;\n    }\n\n    .dataframe tbody tr th {\n        vertical-align: top;\n    }\n\n    .dataframe thead th {\n        text-align: right;\n    }\n</style>\n<table border=\"1\" class=\"dataframe\">\n  <thead>\n    <tr style=\"text-align: right;\">\n      <th></th>\n      <th>neighborhood</th>\n      <th>borough</th>\n      <th>area</th>\n      <th>population</th>\n      <th>coord_nord</th>\n      <th>coord_east</th>\n      <th>post_codes</th>\n    </tr>\n  </thead>\n  <tbody>\n    <tr>\n      <th>0</th>\n      <td>Hamburg-Altstadt</td>\n      <td>Hamburg-Mitte</td>\n      <td>2,4</td>\n      <td>2305</td>\n      <td>53.55000</td>\n      <td>10.00000</td>\n      <td>20095,20099,20457</td>\n    </tr>\n    <tr>\n      <th>1</th>\n      <td>HafenCity</td>\n      <td>Hamburg-Mitte</td>\n      <td>2,2</td>\n      <td>3627</td>\n      <td>53.54111</td>\n      <td>10.00028</td>\n      <td>20457,20539</td>\n    </tr>\n    <tr>\n      <th>2</th>\n      <td>Neustadt</td>\n      <td>Hamburg-Mitte</td>\n      <td>2,3</td>\n      <td>12.719</td>\n      <td>53.55194</td>\n      <td>9.98556</td>\n      <td>20354,20355,20359,20457,20459</td>\n    </tr>\n    <tr>\n      <th>3</th>\n      <td>St. Pauli</td>\n      <td>Hamburg-Mitte</td>\n      <td>2,5</td>\n      <td>22.501</td>\n      <td>53.55694</td>\n      <td>9.96389</td>\n      <td>20354,20355,20357,20359,22767,22769</td>\n    </tr>\n    <tr>\n      <th>4</th>\n      <td>St. Georg</td>\n      <td>Hamburg-Mitte</td>\n      <td>2,4</td>\n      <td>11.055</td>\n      <td>53.55500</td>\n      <td>10.01222</td>\n      <td>20095,20097,20099</td>\n    </tr>\n  </tbody>\n</table>\n</div>", 
                        "text/plain": "       neighborhood        borough area population coord_nord coord_east  \\\n0  Hamburg-Altstadt  Hamburg-Mitte  2,4       2305   53.55000   10.00000   \n1         HafenCity  Hamburg-Mitte  2,2       3627   53.54111   10.00028   \n2          Neustadt  Hamburg-Mitte  2,3     12.719   53.55194    9.98556   \n3         St. Pauli  Hamburg-Mitte  2,5     22.501   53.55694    9.96389   \n4         St. Georg  Hamburg-Mitte  2,4     11.055   53.55500   10.01222   \n\n                            post_codes  \n0                    20095,20099,20457  \n1                          20457,20539  \n2        20354,20355,20359,20457,20459  \n3  20354,20355,20357,20359,22767,22769  \n4                    20095,20097,20099  "
                    }, 
                    "output_type": "execute_result"
                }
            ], 
            "source": "df_neigh.head()"
        }, 
        {
            "execution_count": null, 
            "cell_type": "code", 
            "metadata": {}, 
            "outputs": [], 
            "source": ""
        }, 
        {
            "execution_count": null, 
            "cell_type": "code", 
            "metadata": {}, 
            "outputs": [], 
            "source": ""
        }, 
        {
            "execution_count": null, 
            "cell_type": "code", 
            "metadata": {}, 
            "outputs": [], 
            "source": ""
        }, 
        {
            "source": "#### Scrap hauses from immowelt.de", 
            "cell_type": "markdown", 
            "metadata": {}
        }, 
        {
            "execution_count": 17, 
            "cell_type": "code", 
            "metadata": {}, 
            "outputs": [], 
            "source": "imo_link = \"https://www.immowelt.de/liste/hamburg/haeuser/kaufen?sort=relevanz\"\nr= requests.get(imo_link)\nsoup = BeautifulSoup(r.text,'lxml')"
        }, 
        {
            "execution_count": 18, 
            "cell_type": "code", 
            "metadata": {}, 
            "outputs": [], 
            "source": "# number of pages to scrap\ntot_pages = []\nsitenum = soup.find(id='pnlPaging')#, class_='site-numbers')\nfor item in sitenum.find_all('a'):\n    if item.text != '':\n        tot_pages.append(item.text.strip())\nnumpages = max(list(map(int,tot_pages)))"
        }, 
        {
            "execution_count": 19, 
            "cell_type": "code", 
            "metadata": {}, 
            "outputs": [], 
            "source": "numpages = 2"
        }, 
        {
            "source": "#### scrap all immo page with selling hauses", 
            "cell_type": "markdown", 
            "metadata": {}
        }, 
        {
            "execution_count": 20, 
            "cell_type": "code", 
            "metadata": {}, 
            "outputs": [
                {
                    "output_type": "stream", 
                    "name": "stdout", 
                    "text": "Reading page number:1\nReading page number:2\nScrap finished!\n"
                }
            ], 
            "source": "imo_pages = []\nfor i in range(1,numpages+1):\n    imo_link = \"https://www.immowelt.de/liste/hamburg/haeuser/kaufen?sort=relevanz&cp=\" + str(i)\n    r= requests.get(imo_link)\n    soup = BeautifulSoup(r.text,'lxml')\n    imo_pages.append(soup)\n    print('Reading page number:' + str(i))\nprint('Scrap finished!')"
        }, 
        {
            "execution_count": 21, 
            "cell_type": "code", 
            "metadata": {}, 
            "outputs": [
                {
                    "output_type": "stream", 
                    "name": "stdout", 
                    "text": "(48, 3)\n"
                }, 
                {
                    "execution_count": 21, 
                    "metadata": {}, 
                    "data": {
                        "text/html": "<div>\n<style scoped>\n    .dataframe tbody tr th:only-of-type {\n        vertical-align: middle;\n    }\n\n    .dataframe tbody tr th {\n        vertical-align: top;\n    }\n\n    .dataframe thead th {\n        text-align: right;\n    }\n</style>\n<table border=\"1\" class=\"dataframe\">\n  <thead>\n    <tr style=\"text-align: right;\">\n      <th></th>\n      <th>oid</th>\n      <th>stateid</th>\n      <th>link</th>\n    </tr>\n  </thead>\n  <tbody>\n    <tr>\n      <th>0</th>\n      <td>2N65P42</td>\n      <td>54547557</td>\n      <td>https://www.immowelt.de/expose/2N65P42</td>\n    </tr>\n    <tr>\n      <th>1</th>\n      <td>2P5JK46</td>\n      <td>55723524</td>\n      <td>https://www.immowelt.de/expose/2P5JK46</td>\n    </tr>\n    <tr>\n      <th>2</th>\n      <td>2PFK546</td>\n      <td>55709230</td>\n      <td>https://www.immowelt.de/expose/2PFK546</td>\n    </tr>\n    <tr>\n      <th>3</th>\n      <td>2P3A445</td>\n      <td>55675138</td>\n      <td>https://www.immowelt.de/expose/2P3A445</td>\n    </tr>\n    <tr>\n      <th>4</th>\n      <td>2PT4S43</td>\n      <td>55631962</td>\n      <td>https://www.immowelt.de/expose/2PT4S43</td>\n    </tr>\n  </tbody>\n</table>\n</div>", 
                        "text/plain": "       oid   stateid                                    link\n0  2N65P42  54547557  https://www.immowelt.de/expose/2N65P42\n1  2P5JK46  55723524  https://www.immowelt.de/expose/2P5JK46\n2  2PFK546  55709230  https://www.immowelt.de/expose/2PFK546\n3  2P3A445  55675138  https://www.immowelt.de/expose/2P3A445\n4  2PT4S43  55631962  https://www.immowelt.de/expose/2PT4S43"
                    }, 
                    "output_type": "execute_result"
                }
            ], 
            "source": "# Crate the dataframe\ndf_imo_cols = ['oid','stateid','link'] \n# initiate dataframe\ndf_imo = pd.DataFrame(columns=df_imo_cols)\n# scrap data\nfor impage in imo_pages:\n    for item in impage.find_all('div', class_='js-object'):# listitem_wrap blickfang'):\n        df_imo = df_imo.append({'oid': item['data-oid'] , 'stateid': item['data-estateid'] , 'link' : 'https://www.immowelt.de/expose/' + item['data-oid'] }, ignore_index=True)\n            \nprint(df_imo.shape)\ndf_imo.head()"
        }, 
        {
            "execution_count": 22, 
            "cell_type": "code", 
            "metadata": {}, 
            "outputs": [
                {
                    "output_type": "stream", 
                    "name": "stdout", 
                    "text": "(40, 3)\n"
                }, 
                {
                    "execution_count": 22, 
                    "metadata": {}, 
                    "data": {
                        "text/html": "<div>\n<style scoped>\n    .dataframe tbody tr th:only-of-type {\n        vertical-align: middle;\n    }\n\n    .dataframe tbody tr th {\n        vertical-align: top;\n    }\n\n    .dataframe thead th {\n        text-align: right;\n    }\n</style>\n<table border=\"1\" class=\"dataframe\">\n  <thead>\n    <tr style=\"text-align: right;\">\n      <th></th>\n      <th>oid</th>\n      <th>stateid</th>\n      <th>link</th>\n    </tr>\n  </thead>\n  <tbody>\n    <tr>\n      <th>0</th>\n      <td>2PT4S43</td>\n      <td>55631962</td>\n      <td>https://www.immowelt.de/expose/2PT4S43</td>\n    </tr>\n    <tr>\n      <th>1</th>\n      <td>2PSJW44</td>\n      <td>55669273</td>\n      <td>https://www.immowelt.de/expose/2PSJW44</td>\n    </tr>\n    <tr>\n      <th>2</th>\n      <td>2N4AJ44</td>\n      <td>54608131</td>\n      <td>https://www.immowelt.de/expose/2N4AJ44</td>\n    </tr>\n    <tr>\n      <th>3</th>\n      <td>2PSBK44</td>\n      <td>55657785</td>\n      <td>https://www.immowelt.de/expose/2PSBK44</td>\n    </tr>\n    <tr>\n      <th>4</th>\n      <td>2P9FJ44</td>\n      <td>55656872</td>\n      <td>https://www.immowelt.de/expose/2P9FJ44</td>\n    </tr>\n  </tbody>\n</table>\n</div>", 
                        "text/plain": "       oid   stateid                                    link\n0  2PT4S43  55631962  https://www.immowelt.de/expose/2PT4S43\n1  2PSJW44  55669273  https://www.immowelt.de/expose/2PSJW44\n2  2N4AJ44  54608131  https://www.immowelt.de/expose/2N4AJ44\n3  2PSBK44  55657785  https://www.immowelt.de/expose/2PSBK44\n4  2P9FJ44  55656872  https://www.immowelt.de/expose/2P9FJ44"
                    }, 
                    "output_type": "execute_result"
                }
            ], 
            "source": "# Drop duplicates\ndf_imo = df_imo.drop_duplicates(subset='oid', keep=\"last\")\ndf_imo = df_imo.reset_index(drop=True)\nprint(df_imo.shape)\ndf_imo.head()"
        }, 
        {
            "execution_count": 23, 
            "cell_type": "code", 
            "metadata": {}, 
            "outputs": [
                {
                    "output_type": "stream", 
                    "name": "stdout", 
                    "text": "Scraping page  0 : https://www.immowelt.de/expose/2PT4S43\nScraping page  1 : https://www.immowelt.de/expose/2PSJW44\nScraping page  2 : https://www.immowelt.de/expose/2N4AJ44\nScraping page  3 : https://www.immowelt.de/expose/2PSBK44\nScraping page  4 : https://www.immowelt.de/expose/2P9FJ44\nScraping page  5 : https://www.immowelt.de/expose/2PUA544\nScraping page  6 : https://www.immowelt.de/expose/2PPV444\nScraping page  7 : https://www.immowelt.de/expose/2P6AZ43\nScraping page  8 : https://www.immowelt.de/expose/2P6XX43\nScraping page  9 : https://www.immowelt.de/expose/2PCFE43\nScraping page  10 : https://www.immowelt.de/expose/2P4TL42\nScraping page  11 : https://www.immowelt.de/expose/2NK8L4Z\nScraping page  12 : https://www.immowelt.de/expose/2N3WH4M\nScraping page  13 : https://www.immowelt.de/expose/2MMYQ44\nScraping page  14 : https://www.immowelt.de/expose/2N27V4X\nScraping page  15 : https://www.immowelt.de/expose/2NXXU4R\nScraping page  16 : https://www.immowelt.de/expose/2N65P42\nScraping page  17 : https://www.immowelt.de/expose/2P5JK46\nScraping page  18 : https://www.immowelt.de/expose/2PFK546\nScraping page  19 : https://www.immowelt.de/expose/2P3A445\nScraping page  20 : https://www.immowelt.de/expose/2NNL64V\nScraping page  21 : https://www.immowelt.de/expose/2NZSW4T\nScraping page  22 : https://www.immowelt.de/expose/2LKMD4X\nScraping page  23 : https://www.immowelt.de/expose/2NQHE4T\nScraping page  24 : https://www.immowelt.de/expose/2NXDU4S\nScraping page  25 : https://www.immowelt.de/expose/2MH784S\nScraping page  26 : https://www.immowelt.de/expose/2M9VT4C\nScraping page  27 : https://www.immowelt.de/expose/2NRMZ4S\nScraping page  28 : https://www.immowelt.de/expose/2NTZV4Q\nScraping page  29 : https://www.immowelt.de/expose/2NNKZ4S\nScraping page  30 : https://www.immowelt.de/expose/2NN874S\nScraping page  31 : https://www.immowelt.de/expose/2NAKW4R\nScraping page  32 : https://www.immowelt.de/expose/2N2VC4M\nScraping page  33 : https://www.immowelt.de/expose/2N9NZ4J\nScraping page  34 : https://www.immowelt.de/expose/2M5424F\nScraping page  35 : https://www.immowelt.de/expose/2N8KZ4D\nScraping page  36 : https://www.immowelt.de/expose/2NW7B4B\nScraping page  37 : https://www.immowelt.de/expose/2NHUK4A\nScraping page  38 : https://www.immowelt.de/expose/2NSWU4F\nScraping page  39 : https://www.immowelt.de/expose/2NN8A4F\n"
                }
            ], 
            "source": "# Crate dataframe haus fcats\ndf_hause_cols = ['address','post_code','land_area','house_area','rooms','price','features'] \n# initiate dataframe\ndf_hause = pd.DataFrame(columns=df_hause_cols)\n\n# Scrap anouncement of each haus\nfor index, row in df_imo.iterrows():\n    print('Scraping page ',index,':',row[2])\n    imo_hause = row[2] #'https://www.immowelt.de/expose/2PCFE43'\n    r= requests.get(imo_hause)\n    soup = BeautifulSoup(r.text,'lxml')\n    \n    \n    \n    address = soup.find('div', class_='location').find('span').text\n    plz = address.split()[0]\n    \n    itlist = []\n    item = soup.find('div', class_='hardfacts clear')\n    for it in item.find_all('div'):\n        itlist.append(it)\n    \n    land_area = itlist[6].text\n    land_area = land_area.split()[0]\n    \n    house_area = itlist[2].text\n    house_area = house_area.split()[0]\n    \n    rooms = itlist[4].text\n    rooms = rooms.split()[0]\n    \n    price = itlist[0].text\n    price = price.split()[0]\n    \n    try:\n        features = soup.find('div', class_='merkmale').text\n            \n    except:\n        features = ''\n        \n    df_hause = df_hause.append({'address' : address, 'post_code' : plz, 'land_area' : land_area, 'house_area' : house_area, 'rooms' : rooms, 'price' : price, 'features' : features}, ignore_index=True)"
        }, 
        {
            "execution_count": 24, 
            "cell_type": "code", 
            "metadata": {}, 
            "outputs": [
                {
                    "execution_count": 24, 
                    "metadata": {}, 
                    "data": {
                        "text/html": "<div>\n<style scoped>\n    .dataframe tbody tr th:only-of-type {\n        vertical-align: middle;\n    }\n\n    .dataframe tbody tr th {\n        vertical-align: top;\n    }\n\n    .dataframe thead th {\n        text-align: right;\n    }\n</style>\n<table border=\"1\" class=\"dataframe\">\n  <thead>\n    <tr style=\"text-align: right;\">\n      <th></th>\n      <th>address</th>\n      <th>post_code</th>\n      <th>land_area</th>\n      <th>house_area</th>\n      <th>rooms</th>\n      <th>price</th>\n      <th>features</th>\n    </tr>\n  </thead>\n  <tbody>\n    <tr>\n      <th>0</th>\n      <td>22041 Hamburg (Wandsbek)</td>\n      <td>22041</td>\n      <td>590</td>\n      <td>238</td>\n      <td>7</td>\n      <td>979.000</td>\n      <td>Balkon, Terrasse, Garten, Bad mit Wanne, G\u00e4ste...</td>\n    </tr>\n    <tr>\n      <th>1</th>\n      <td>21035 Hamburg (Allerm\u00f6he)</td>\n      <td>21035</td>\n      <td>250</td>\n      <td>136</td>\n      <td>5</td>\n      <td>465.000</td>\n      <td>Terrasse, Bad mit Wanne, G\u00e4ste WC, Einbauk\u00fcche...</td>\n    </tr>\n    <tr>\n      <th>2</th>\n      <td>21079 Hamburg (Moorburg)</td>\n      <td>21079</td>\n      <td>k.A.</td>\n      <td>30</td>\n      <td>k.A.</td>\n      <td>69.000</td>\n      <td>provisionsfrei, Terrasse, Bad mit Wanne, Neubau</td>\n    </tr>\n    <tr>\n      <th>3</th>\n      <td>22457 Hamburg (Schnelsen), K\u00f6nigskinderweg 74</td>\n      <td>22457</td>\n      <td>486</td>\n      <td>117</td>\n      <td>4</td>\n      <td>516.800</td>\n      <td>provisionsfrei, Terrasse, Stellplatz, Bad mit ...</td>\n    </tr>\n    <tr>\n      <th>4</th>\n      <td>22457 Hamburg (Schnelsen), K\u00f6nigskinderweg 74</td>\n      <td>22457</td>\n      <td>237</td>\n      <td>121</td>\n      <td>4</td>\n      <td>474.900</td>\n      <td>provisionsfrei, Terrasse, Stellplatz, Bad mit ...</td>\n    </tr>\n  </tbody>\n</table>\n</div>", 
                        "text/plain": "                                         address post_code land_area  \\\n0                       22041 Hamburg (Wandsbek)     22041       590   \n1                      21035 Hamburg (Allerm\u00f6he)     21035       250   \n2                       21079 Hamburg (Moorburg)     21079      k.A.   \n3  22457 Hamburg (Schnelsen), K\u00f6nigskinderweg 74     22457       486   \n4  22457 Hamburg (Schnelsen), K\u00f6nigskinderweg 74     22457       237   \n\n  house_area rooms    price                                           features  \n0        238     7  979.000  Balkon, Terrasse, Garten, Bad mit Wanne, G\u00e4ste...  \n1        136     5  465.000  Terrasse, Bad mit Wanne, G\u00e4ste WC, Einbauk\u00fcche...  \n2         30  k.A.   69.000    provisionsfrei, Terrasse, Bad mit Wanne, Neubau  \n3        117     4  516.800  provisionsfrei, Terrasse, Stellplatz, Bad mit ...  \n4        121     4  474.900  provisionsfrei, Terrasse, Stellplatz, Bad mit ...  "
                    }, 
                    "output_type": "execute_result"
                }
            ], 
            "source": "df_hause.head()"
        }, 
        {
            "source": "#### Clean dataframe -> Price, k.A. values, etc", 
            "cell_type": "markdown", 
            "metadata": {}
        }, 
        {
            "execution_count": 25, 
            "cell_type": "code", 
            "metadata": {}, 
            "outputs": [], 
            "source": "# remove point as thousands symbol\ndf_hause['price'] = df_hause['price'].str.replace('.','')\ndf_hause['land_area'] = df_hause['land_area'].str.replace('.','')\ndf_hause['house_area'] = df_hause['house_area'].str.replace('.','')\n\n# change decimal separator from ',' to '.'\ndf_hause['land_area'] = df_hause['land_area'].str.replace(',','.')\ndf_hause['house_area'] = df_hause['house_area'].str.replace(',','.')\ndf_hause['rooms'] = df_hause['rooms'].str.replace(',','.')"
        }, 
        {
            "execution_count": 26, 
            "cell_type": "code", 
            "metadata": {}, 
            "outputs": [], 
            "source": "# remove not valid entries as rows with k.A.\ndf_hause = df_hause[df_hause.post_code != 'k.A.']\ndf_hause = df_hause[df_hause.land_area != 'k.A.']\ndf_hause = df_hause[df_hause.house_area != 'k.A.']\ndf_hause = df_hause[df_hause.rooms != 'k.A.']\n\n# convert to float\ndf_hause['land_area'] = pd.to_numeric(df_hause['land_area'], downcast='float')\ndf_hause['house_area'] = pd.to_numeric(df_hause['house_area'], downcast='float')\ndf_hause['rooms'] = pd.to_numeric(df_hause['rooms'], downcast='float')\ndf_hause['price'] = pd.to_numeric(df_hause['price'], downcast='float')"
        }, 
        {
            "execution_count": 28, 
            "cell_type": "code", 
            "metadata": {}, 
            "outputs": [
                {
                    "execution_count": 28, 
                    "metadata": {}, 
                    "data": {
                        "text/html": "<div>\n<style scoped>\n    .dataframe tbody tr th:only-of-type {\n        vertical-align: middle;\n    }\n\n    .dataframe tbody tr th {\n        vertical-align: top;\n    }\n\n    .dataframe thead th {\n        text-align: right;\n    }\n</style>\n<table border=\"1\" class=\"dataframe\">\n  <thead>\n    <tr style=\"text-align: right;\">\n      <th></th>\n      <th>address</th>\n      <th>post_code</th>\n      <th>land_area</th>\n      <th>house_area</th>\n      <th>rooms</th>\n      <th>price</th>\n      <th>features</th>\n    </tr>\n  </thead>\n  <tbody>\n    <tr>\n      <th>0</th>\n      <td>22041 Hamburg (Wandsbek)</td>\n      <td>22041</td>\n      <td>590.0</td>\n      <td>238.0</td>\n      <td>7.0</td>\n      <td>979000.0</td>\n      <td>Balkon, Terrasse, Garten, Bad mit Wanne, G\u00e4ste...</td>\n    </tr>\n    <tr>\n      <th>1</th>\n      <td>21035 Hamburg (Allerm\u00f6he)</td>\n      <td>21035</td>\n      <td>250.0</td>\n      <td>136.0</td>\n      <td>5.0</td>\n      <td>465000.0</td>\n      <td>Terrasse, Bad mit Wanne, G\u00e4ste WC, Einbauk\u00fcche...</td>\n    </tr>\n    <tr>\n      <th>3</th>\n      <td>22457 Hamburg (Schnelsen), K\u00f6nigskinderweg 74</td>\n      <td>22457</td>\n      <td>486.0</td>\n      <td>117.0</td>\n      <td>4.0</td>\n      <td>516800.0</td>\n      <td>provisionsfrei, Terrasse, Stellplatz, Bad mit ...</td>\n    </tr>\n    <tr>\n      <th>4</th>\n      <td>22457 Hamburg (Schnelsen), K\u00f6nigskinderweg 74</td>\n      <td>22457</td>\n      <td>237.0</td>\n      <td>121.0</td>\n      <td>4.0</td>\n      <td>474900.0</td>\n      <td>provisionsfrei, Terrasse, Stellplatz, Bad mit ...</td>\n    </tr>\n    <tr>\n      <th>5</th>\n      <td>22159 Hamburg (Farmsen-Berne)</td>\n      <td>22159</td>\n      <td>248.0</td>\n      <td>125.0</td>\n      <td>5.0</td>\n      <td>635000.0</td>\n      <td>provisionsfrei, Terrasse, Garten, Bad mit Wann...</td>\n    </tr>\n  </tbody>\n</table>\n</div>", 
                        "text/plain": "                                         address post_code  land_area  \\\n0                       22041 Hamburg (Wandsbek)     22041      590.0   \n1                      21035 Hamburg (Allerm\u00f6he)     21035      250.0   \n3  22457 Hamburg (Schnelsen), K\u00f6nigskinderweg 74     22457      486.0   \n4  22457 Hamburg (Schnelsen), K\u00f6nigskinderweg 74     22457      237.0   \n5                  22159 Hamburg (Farmsen-Berne)     22159      248.0   \n\n   house_area  rooms     price  \\\n0       238.0    7.0  979000.0   \n1       136.0    5.0  465000.0   \n3       117.0    4.0  516800.0   \n4       121.0    4.0  474900.0   \n5       125.0    5.0  635000.0   \n\n                                            features  \n0  Balkon, Terrasse, Garten, Bad mit Wanne, G\u00e4ste...  \n1  Terrasse, Bad mit Wanne, G\u00e4ste WC, Einbauk\u00fcche...  \n3  provisionsfrei, Terrasse, Stellplatz, Bad mit ...  \n4  provisionsfrei, Terrasse, Stellplatz, Bad mit ...  \n5  provisionsfrei, Terrasse, Garten, Bad mit Wann...  "
                    }, 
                    "output_type": "execute_result"
                }
            ], 
            "source": "df_hause.head()"
        }, 
        {
            "execution_count": 29, 
            "cell_type": "code", 
            "metadata": {}, 
            "outputs": [
                {
                    "execution_count": 29, 
                    "metadata": {}, 
                    "data": {
                        "text/html": "<div>\n<style scoped>\n    .dataframe tbody tr th:only-of-type {\n        vertical-align: middle;\n    }\n\n    .dataframe tbody tr th {\n        vertical-align: top;\n    }\n\n    .dataframe thead th {\n        text-align: right;\n    }\n</style>\n<table border=\"1\" class=\"dataframe\">\n  <thead>\n    <tr style=\"text-align: right;\">\n      <th></th>\n      <th>land_area</th>\n      <th>house_area</th>\n      <th>rooms</th>\n      <th>price</th>\n    </tr>\n  </thead>\n  <tbody>\n    <tr>\n      <th>count</th>\n      <td>37.000000</td>\n      <td>37.000000</td>\n      <td>37.000000</td>\n      <td>37.000</td>\n    </tr>\n    <tr>\n      <th>mean</th>\n      <td>681.189209</td>\n      <td>162.338379</td>\n      <td>5.378378</td>\n      <td>800243.000</td>\n    </tr>\n    <tr>\n      <th>std</th>\n      <td>467.507935</td>\n      <td>65.363838</td>\n      <td>1.478576</td>\n      <td>644982.625</td>\n    </tr>\n    <tr>\n      <th>min</th>\n      <td>139.000000</td>\n      <td>63.000000</td>\n      <td>4.000000</td>\n      <td>359000.000</td>\n    </tr>\n    <tr>\n      <th>25%</th>\n      <td>300.000000</td>\n      <td>121.199997</td>\n      <td>4.500000</td>\n      <td>485900.000</td>\n    </tr>\n    <tr>\n      <th>50%</th>\n      <td>590.000000</td>\n      <td>137.500000</td>\n      <td>5.000000</td>\n      <td>585000.000</td>\n    </tr>\n    <tr>\n      <th>75%</th>\n      <td>870.000000</td>\n      <td>180.000000</td>\n      <td>5.000000</td>\n      <td>930000.000</td>\n    </tr>\n    <tr>\n      <th>max</th>\n      <td>2200.000000</td>\n      <td>350.000000</td>\n      <td>10.000000</td>\n      <td>3999000.000</td>\n    </tr>\n  </tbody>\n</table>\n</div>", 
                        "text/plain": "         land_area  house_area      rooms        price\ncount    37.000000   37.000000  37.000000       37.000\nmean    681.189209  162.338379   5.378378   800243.000\nstd     467.507935   65.363838   1.478576   644982.625\nmin     139.000000   63.000000   4.000000   359000.000\n25%     300.000000  121.199997   4.500000   485900.000\n50%     590.000000  137.500000   5.000000   585000.000\n75%     870.000000  180.000000   5.000000   930000.000\nmax    2200.000000  350.000000  10.000000  3999000.000"
                    }, 
                    "output_type": "execute_result"
                }
            ], 
            "source": "df_hause.describe()"
        }, 
        {
            "execution_count": null, 
            "cell_type": "code", 
            "metadata": {}, 
            "outputs": [], 
            "source": ""
        }, 
        {
            "execution_count": null, 
            "cell_type": "code", 
            "metadata": {}, 
            "outputs": [], 
            "source": ""
        }, 
        {
            "execution_count": null, 
            "cell_type": "code", 
            "metadata": {}, 
            "outputs": [], 
            "source": ""
        }, 
        {
            "execution_count": null, 
            "cell_type": "code", 
            "metadata": {}, 
            "outputs": [], 
            "source": ""
        }, 
        {
            "source": "####  Create a map of Hamburg including markers for the neighborhoods", 
            "cell_type": "markdown", 
            "metadata": {}
        }, 
        {
            "execution_count": 29, 
            "cell_type": "code", 
            "metadata": {}, 
            "outputs": [], 
            "source": "# create map of Hamburg\naddress = '22041, Hamburg'\n\ngeolocator = Nominatim(user_agent=\"ny_explorer\")\nlocation = geolocator.geocode(address)\nlatitude = location.latitude\nlongitude = location.longitude\nmap_hamburg = folium.Map(location=[latitude, longitude], width=800, height=600, zoom_start=11)\n#folium.CircleMarker([float(latitude), float(longitude)], radius=4, popup=label, color='blue', fill=True, fill_color='#3186cc', fill_opacity=0.6, parse_html=False).add_to(map_hamburg) \n#map_hamburg"
        }, 
        {
            "execution_count": 28, 
            "cell_type": "code", 
            "metadata": {}, 
            "outputs": [], 
            "source": "# add markers to map\nfor lat, lng, label in zip(df_neigh['coord_nord'], df_neigh['coord_east'], df_neigh['neighborhood']):\n    label = folium.Popup(label, parse_html=True)\n    folium.CircleMarker([float(lat), float(lng)],radius=4,popup=label,color='blue',fill=True,fill_color='#3186cc',fill_opacity=0.6,parse_html=False).add_to(map_hamburg)  \n#map_hamburg"
        }, 
        {
            "source": "#### Analisys Foursquare\nFind the 100 Venues of each postal code ina 1000 m radius", 
            "cell_type": "markdown", 
            "metadata": {}
        }, 
        {
            "execution_count": 16, 
            "cell_type": "code", 
            "metadata": {}, 
            "outputs": [
                {
                    "output_type": "stream", 
                    "name": "stdout", 
                    "text": "Your credentails -> CLIENT_ID: TK52SZTRXS01EHZ5BC2401INEK1FEH0CY2B3H3KOGLLE3PT0 CLIENT_SECRET:RQI32Z1S54PMZH43RJ420DP3KELRLR21TAD3BFBEIB4MTQFR\n"
                }
            ], 
            "source": "CLIENT_ID = 'TK52SZTRXS01EHZ5BC2401INEK1FEH0CY2B3H3KOGLLE3PT0' # your Foursquare ID\nCLIENT_SECRET = 'RQI32Z1S54PMZH43RJ420DP3KELRLR21TAD3BFBEIB4MTQFR' # your Foursquare Secret\nVERSION = '20180605' # Foursquare API version\nprint('Your credentails -> CLIENT_ID: ' + CLIENT_ID + ' CLIENT_SECRET:' + CLIENT_SECRET)"
        }, 
        {
            "source": "#### Check the 100 top venues of each neighborhood", 
            "cell_type": "markdown", 
            "metadata": {}
        }, 
        {
            "execution_count": 17, 
            "cell_type": "code", 
            "metadata": {}, 
            "outputs": [], 
            "source": "# function to search the 100 top venues\ndef getNearbyVenues(names, latitudes, longitudes, radius, LIMIT):\n    \n    venues_list=[]\n    for name, lat, lng in zip(names, latitudes, longitudes):\n        print(name)\n            \n        # create the API request URL\n        url = 'https://api.foursquare.com/v2/venues/explore?&client_id={}&client_secret={}&v={}&ll={},{}&radius={}&limit={}'.format(\n            CLIENT_ID, \n            CLIENT_SECRET, \n            VERSION, \n            lat, \n            lng, \n            radius, \n            LIMIT)\n            \n        # make the GET request\n        results = requests.get(url).json()[\"response\"]['groups'][0]['items']\n        \n        # return only relevant information for each nearby venue\n        \n        # analysis post code\n        try:\n            pp = results[0]['venue']['location']['postalCode']\n        except:\n            pp = float('nan')\n        \n        venues_list.append([(\n            name, \n            lat, \n            lng, \n            v['venue']['name'], \n            v['venue']['location']['lat'], \n            v['venue']['location']['lng'],\n            pp,\n            v['venue']['location']['formattedAddress'],\n            v['venue']['categories'][0]['name']) for v in results])\n            \n            \n\n    nearby_venues = pd.DataFrame([item for venue_list in venues_list for item in venue_list])\n    nearby_venues.columns = ['neighborhood',\n                             'coord_nord',\n                             'coord_east',\n                             'venue',\n                             'venue_coord_nord',\n                             'venue_coord_east',\n                             'venue_post_code',\n                             'venue_address',\n                             'venue_category'\n                             ]\n    nearby_venues.dropna()\n    \n    return(nearby_venues)"
        }, 
        {
            "execution_count": 18, 
            "cell_type": "code", 
            "metadata": {}, 
            "outputs": [
                {
                    "output_type": "stream", 
                    "name": "stdout", 
                    "text": "Hamburg-Altstadt\nHafenCity\nNeustadt\nSt. Pauli\nSt. Georg\nHammerbrook\nBorgfelde\nHamm\nHorn\nBillstedt\nBillbrook\nRothenburgsort\nVeddel\nWilhelmsburg\nKleiner Grasbrook\nSteinwerder\nWaltershof\nFinkenwerder\nNeuwerk\nAltona-Altstadt\nSternschanze\nAltona-Nord\nOttensen\nBahrenfeld\nGro\u00df Flottbek\nOthmarschen\nLurup\nOsdorf\nNienstedten\nBlankenese\nIserbrook\nS\u00fclldorf\nRissen\nEimsb\u00fcttel\nRotherbaum\nHarvestehude\nHoheluft-West\nLokstedt\nNiendorf\nSchnelsen\nEidelstedt\nStellingen\nHoheluft-Ost\nEppendorf\nGro\u00df Borstel\nAlsterdorf\nWinterhude\nUhlenhorst\nHohenfelde\nBarmbek-S\u00fcd\nDulsberg\nBarmbek-Nord\nOhlsdorf\nFuhlsb\u00fcttel\nLangenhorn\nEilbek\nWandsbek\nMarienthal\nJenfeld\nTonndorf\nFarmsen-Berne\nBramfeld\nSteilshoop\nWellingsb\u00fcttel\nSasel\nPoppenb\u00fcttel\nHummelsb\u00fcttel\nLemsahl-Mellingstedt\nDuvenstedt\nWohldorf-Ohlstedt\nBergstedt\nVolksdorf\nRahlstedt\nLohbr\u00fcgge\nBergedorf\nCurslack\nAltengamme\nNeuengamme\nKirchwerder\nOchsenwerder\nReitbrook\nAllerm\u00f6he\nBillwerder\nMoorfleet\nTatenberg\nSpadenland\nNeuallerm\u00f6he\nHarburg\nNeuland\nGut Moor\nWilstorf\nR\u00f6nneburg\nLangenbek\nSinstorf\nMarmstorf\nEi\u00dfendorf\nHeimfeld\nMoorburg\nAltenwerder\nHausbruch\nNeugraben-Fischbek\nFrancop\nNeuenfelde\nCranz\n"
                }
            ], 
            "source": "hamburg_venues = getNearbyVenues(df_neigh['neighborhood'], df_neigh['coord_nord'], df_neigh['coord_east'], 1000, 100)"
        }, 
        {
            "execution_count": 20, 
            "cell_type": "code", 
            "metadata": {}, 
            "outputs": [], 
            "source": "hamburg_venues.to_pickle('df_hamburg_venues.pkl')"
        }, 
        {
            "execution_count": 30, 
            "cell_type": "code", 
            "metadata": {}, 
            "outputs": [
                {
                    "execution_count": 30, 
                    "metadata": {}, 
                    "data": {
                        "text/plain": "(3159, 9)"
                    }, 
                    "output_type": "execute_result"
                }
            ], 
            "source": "hamburg_venues.shape"
        }, 
        {
            "execution_count": 21, 
            "cell_type": "code", 
            "metadata": {}, 
            "outputs": [], 
            "source": "df = pd.read_pickle('df_hamburg_venues.pkl')"
        }, 
        {
            "execution_count": 22, 
            "cell_type": "code", 
            "metadata": {}, 
            "outputs": [
                {
                    "execution_count": 22, 
                    "metadata": {}, 
                    "data": {
                        "text/html": "<div>\n<style scoped>\n    .dataframe tbody tr th:only-of-type {\n        vertical-align: middle;\n    }\n\n    .dataframe tbody tr th {\n        vertical-align: top;\n    }\n\n    .dataframe thead th {\n        text-align: right;\n    }\n</style>\n<table border=\"1\" class=\"dataframe\">\n  <thead>\n    <tr style=\"text-align: right;\">\n      <th></th>\n      <th>neighborhood</th>\n      <th>coord_nord</th>\n      <th>coord_east</th>\n      <th>venue</th>\n      <th>venue_coord_nord</th>\n      <th>venue_coord_east</th>\n      <th>venue_post_code</th>\n      <th>venue_address</th>\n      <th>venue_category</th>\n    </tr>\n  </thead>\n  <tbody>\n    <tr>\n      <th>0</th>\n      <td>Hamburg-Altstadt</td>\n      <td>53.55000</td>\n      <td>10.00000</td>\n      <td>GOOT - Finest Cuts</td>\n      <td>53.548509</td>\n      <td>10.000675</td>\n      <td>20095</td>\n      <td>[Depenau 10 (Niedernstr.), 20095 Hamburg, Deut...</td>\n      <td>Comfort Food Restaurant</td>\n    </tr>\n    <tr>\n      <th>1</th>\n      <td>Hamburg-Altstadt</td>\n      <td>53.55000</td>\n      <td>10.00000</td>\n      <td>Shiso Burger</td>\n      <td>53.550648</td>\n      <td>10.001897</td>\n      <td>20095</td>\n      <td>[Bugenhagenstr 23, 20095 Hamburg, Deutschland]</td>\n      <td>Burger Joint</td>\n    </tr>\n    <tr>\n      <th>2</th>\n      <td>Hamburg-Altstadt</td>\n      <td>53.55000</td>\n      <td>10.00000</td>\n      <td>Passage Kino</td>\n      <td>53.550708</td>\n      <td>9.998299</td>\n      <td>20095</td>\n      <td>[M\u00f6nckebergstr. 17, 20095 Hamburg, Deutschland]</td>\n      <td>Indie Movie Theater</td>\n    </tr>\n    <tr>\n      <th>3</th>\n      <td>Hamburg-Altstadt</td>\n      <td>53.55000</td>\n      <td>10.00000</td>\n      <td>Thalia Theater</td>\n      <td>53.551897</td>\n      <td>9.998384</td>\n      <td>20095</td>\n      <td>[Alstertor 1, 20095 Hamburg, Deutschland]</td>\n      <td>Theater</td>\n    </tr>\n    <tr>\n      <th>4</th>\n      <td>Hamburg-Altstadt</td>\n      <td>53.55000</td>\n      <td>10.00000</td>\n      <td>O-ren Ishii</td>\n      <td>53.548402</td>\n      <td>9.997628</td>\n      <td>20095</td>\n      <td>[Kleine Reichenstr. 18, 20457 Hamburg, Deutsch...</td>\n      <td>Vietnamese Restaurant</td>\n    </tr>\n  </tbody>\n</table>\n</div>", 
                        "text/plain": "       neighborhood coord_nord coord_east               venue  \\\n0  Hamburg-Altstadt   53.55000   10.00000  GOOT - Finest Cuts   \n1  Hamburg-Altstadt   53.55000   10.00000        Shiso Burger   \n2  Hamburg-Altstadt   53.55000   10.00000        Passage Kino   \n3  Hamburg-Altstadt   53.55000   10.00000      Thalia Theater   \n4  Hamburg-Altstadt   53.55000   10.00000         O-ren Ishii   \n\n   venue_coord_nord  venue_coord_east venue_post_code  \\\n0         53.548509         10.000675           20095   \n1         53.550648         10.001897           20095   \n2         53.550708          9.998299           20095   \n3         53.551897          9.998384           20095   \n4         53.548402          9.997628           20095   \n\n                                       venue_address           venue_category  \n0  [Depenau 10 (Niedernstr.), 20095 Hamburg, Deut...  Comfort Food Restaurant  \n1     [Bugenhagenstr 23, 20095 Hamburg, Deutschland]             Burger Joint  \n2    [M\u00f6nckebergstr. 17, 20095 Hamburg, Deutschland]      Indie Movie Theater  \n3          [Alstertor 1, 20095 Hamburg, Deutschland]                  Theater  \n4  [Kleine Reichenstr. 18, 20457 Hamburg, Deutsch...    Vietnamese Restaurant  "
                    }, 
                    "output_type": "execute_result"
                }
            ], 
            "source": "df.head()"
        }, 
        {
            "execution_count": 25, 
            "cell_type": "code", 
            "metadata": {}, 
            "outputs": [
                {
                    "output_type": "stream", 
                    "name": "stdout", 
                    "text": "There are 299 uniques categories.\n"
                }
            ], 
            "source": "print('There are {} uniques categories.'.format(len(hamburg_venues['venue_category'].unique())))"
        }, 
        {
            "execution_count": 38, 
            "cell_type": "code", 
            "metadata": {}, 
            "outputs": [], 
            "source": "hamburg_onehot = pd.get_dummies(hamburg_venues[['venue_category']], prefix=\"\", prefix_sep=\"\")\nhamburg_onehot['neighborhood'] = hamburg_venues['neighborhood']\n"
        }, 
        {
            "execution_count": 42, 
            "cell_type": "code", 
            "metadata": {}, 
            "outputs": [], 
            "source": "fixed_columns = [hamburg_onehot.columns[-1]] + list(hamburg_onehot.columns[:-1])\nhamburg_onehot = hamburg_onehot[fixed_columns]"
        }, 
        {
            "execution_count": 47, 
            "cell_type": "code", 
            "metadata": {}, 
            "outputs": [
                {
                    "execution_count": 47, 
                    "metadata": {}, 
                    "data": {
                        "text/plain": "(3159, 300)"
                    }, 
                    "output_type": "execute_result"
                }
            ], 
            "source": "hamburg_onehot.shape"
        }, 
        {
            "execution_count": 56, 
            "cell_type": "code", 
            "metadata": {}, 
            "outputs": [
                {
                    "execution_count": 56, 
                    "metadata": {}, 
                    "data": {
                        "text/html": "<div>\n<style scoped>\n    .dataframe tbody tr th:only-of-type {\n        vertical-align: middle;\n    }\n\n    .dataframe tbody tr th {\n        vertical-align: top;\n    }\n\n    .dataframe thead th {\n        text-align: right;\n    }\n</style>\n<table border=\"1\" class=\"dataframe\">\n  <thead>\n    <tr style=\"text-align: right;\">\n      <th></th>\n      <th>neighborhood</th>\n      <th>ATM</th>\n      <th>Accessories Store</th>\n      <th>Afghan Restaurant</th>\n      <th>African Restaurant</th>\n      <th>Airport</th>\n      <th>Airport Lounge</th>\n      <th>Airport Service</th>\n      <th>American Restaurant</th>\n      <th>Aquarium</th>\n      <th>...</th>\n      <th>Video Store</th>\n      <th>Vietnamese Restaurant</th>\n      <th>Volleyball Court</th>\n      <th>Water Park</th>\n      <th>Whisky Bar</th>\n      <th>Wine Bar</th>\n      <th>Wine Shop</th>\n      <th>Yoga Studio</th>\n      <th>Zoo</th>\n      <th>Zoo Exhibit</th>\n    </tr>\n  </thead>\n  <tbody>\n    <tr>\n      <th>0</th>\n      <td>Allerm\u00f6he</td>\n      <td>0.0</td>\n      <td>0.0</td>\n      <td>0.0</td>\n      <td>0.0</td>\n      <td>0.0</td>\n      <td>0.0</td>\n      <td>0.0</td>\n      <td>0.0</td>\n      <td>0.0</td>\n      <td>...</td>\n      <td>0.0</td>\n      <td>0.00</td>\n      <td>0.0</td>\n      <td>0.00</td>\n      <td>0.00</td>\n      <td>0.00</td>\n      <td>0.0</td>\n      <td>0.0</td>\n      <td>0.0</td>\n      <td>0.0</td>\n    </tr>\n    <tr>\n      <th>1</th>\n      <td>Alsterdorf</td>\n      <td>0.0</td>\n      <td>0.0</td>\n      <td>0.0</td>\n      <td>0.0</td>\n      <td>0.0</td>\n      <td>0.0</td>\n      <td>0.0</td>\n      <td>0.0</td>\n      <td>0.0</td>\n      <td>...</td>\n      <td>0.0</td>\n      <td>0.05</td>\n      <td>0.0</td>\n      <td>0.00</td>\n      <td>0.00</td>\n      <td>0.00</td>\n      <td>0.0</td>\n      <td>0.0</td>\n      <td>0.0</td>\n      <td>0.0</td>\n    </tr>\n    <tr>\n      <th>2</th>\n      <td>Altengamme</td>\n      <td>0.0</td>\n      <td>0.0</td>\n      <td>0.0</td>\n      <td>0.0</td>\n      <td>0.0</td>\n      <td>0.0</td>\n      <td>0.0</td>\n      <td>0.0</td>\n      <td>0.0</td>\n      <td>...</td>\n      <td>0.0</td>\n      <td>0.00</td>\n      <td>0.0</td>\n      <td>0.00</td>\n      <td>0.00</td>\n      <td>0.00</td>\n      <td>0.0</td>\n      <td>0.0</td>\n      <td>0.0</td>\n      <td>0.0</td>\n    </tr>\n    <tr>\n      <th>3</th>\n      <td>Altenwerder</td>\n      <td>0.0</td>\n      <td>0.0</td>\n      <td>0.0</td>\n      <td>0.0</td>\n      <td>0.0</td>\n      <td>0.0</td>\n      <td>0.0</td>\n      <td>0.0</td>\n      <td>0.0</td>\n      <td>...</td>\n      <td>0.0</td>\n      <td>0.00</td>\n      <td>0.0</td>\n      <td>0.00</td>\n      <td>0.00</td>\n      <td>0.00</td>\n      <td>0.0</td>\n      <td>0.0</td>\n      <td>0.0</td>\n      <td>0.0</td>\n    </tr>\n    <tr>\n      <th>4</th>\n      <td>Altona-Altstadt</td>\n      <td>0.0</td>\n      <td>0.0</td>\n      <td>0.0</td>\n      <td>0.0</td>\n      <td>0.0</td>\n      <td>0.0</td>\n      <td>0.0</td>\n      <td>0.0</td>\n      <td>0.0</td>\n      <td>...</td>\n      <td>0.0</td>\n      <td>0.01</td>\n      <td>0.0</td>\n      <td>0.01</td>\n      <td>0.01</td>\n      <td>0.02</td>\n      <td>0.0</td>\n      <td>0.0</td>\n      <td>0.0</td>\n      <td>0.0</td>\n    </tr>\n  </tbody>\n</table>\n<p>5 rows \u00d7 300 columns</p>\n</div>", 
                        "text/plain": "      neighborhood  ATM  Accessories Store  Afghan Restaurant  \\\n0        Allerm\u00f6he  0.0                0.0                0.0   \n1       Alsterdorf  0.0                0.0                0.0   \n2       Altengamme  0.0                0.0                0.0   \n3      Altenwerder  0.0                0.0                0.0   \n4  Altona-Altstadt  0.0                0.0                0.0   \n\n   African Restaurant  Airport  Airport Lounge  Airport Service  \\\n0                 0.0      0.0             0.0              0.0   \n1                 0.0      0.0             0.0              0.0   \n2                 0.0      0.0             0.0              0.0   \n3                 0.0      0.0             0.0              0.0   \n4                 0.0      0.0             0.0              0.0   \n\n   American Restaurant  Aquarium  ...  Video Store  Vietnamese Restaurant  \\\n0                  0.0       0.0  ...          0.0                   0.00   \n1                  0.0       0.0  ...          0.0                   0.05   \n2                  0.0       0.0  ...          0.0                   0.00   \n3                  0.0       0.0  ...          0.0                   0.00   \n4                  0.0       0.0  ...          0.0                   0.01   \n\n   Volleyball Court  Water Park  Whisky Bar  Wine Bar  Wine Shop  Yoga Studio  \\\n0               0.0        0.00        0.00      0.00        0.0          0.0   \n1               0.0        0.00        0.00      0.00        0.0          0.0   \n2               0.0        0.00        0.00      0.00        0.0          0.0   \n3               0.0        0.00        0.00      0.00        0.0          0.0   \n4               0.0        0.01        0.01      0.02        0.0          0.0   \n\n   Zoo  Zoo Exhibit  \n0  0.0          0.0  \n1  0.0          0.0  \n2  0.0          0.0  \n3  0.0          0.0  \n4  0.0          0.0  \n\n[5 rows x 300 columns]"
                    }, 
                    "output_type": "execute_result"
                }
            ], 
            "source": "hamburg_grouped = hamburg_onehot.groupby('neighborhood').mean().reset_index()\nhamburg_grouped.head()"
        }, 
        {
            "execution_count": 64, 
            "cell_type": "code", 
            "metadata": {}, 
            "outputs": [], 
            "source": "num_top_venues = 5\n\nfor hood in hamburg_grouped['neighborhood']:\n    #print(\"----\\\\\\ \"+hood+\" //----\")\n    temp = hamburg_grouped[hamburg_grouped['neighborhood'] == hood].T.reset_index()\n    temp.columns = ['venue','freq']\n    temp = temp.iloc[1:]\n    temp['freq'] = temp['freq'].astype(float)\n    temp = temp.round({'freq': 2})\n    #print(temp.sort_values('freq', ascending=False).reset_index(drop=True).head(num_top_venues))\n    #print('\\n')"
        }, 
        {
            "execution_count": 74, 
            "cell_type": "code", 
            "metadata": {}, 
            "outputs": [
                {
                    "output_type": "stream", 
                    "name": "stdout", 
                    "text": "[[ 0 31]\n [ 1  4]\n [ 2  1]\n [ 3 45]\n [ 4 21]\n [ 5  1]\n [ 6  1]]\n"
                }
            ], 
            "source": "# set number of clusters\nkclusters = 7\n\nhamburg_grouped_clustering = hamburg_grouped.drop('neighborhood', 1)\n\n# run k-means clustering\nkmeans = KMeans(n_clusters=kclusters, random_state=0).fit(hamburg_grouped_clustering)\n\n# check cluster labels generated for each row in the dataframe\nkmeans.labels_\nunique, counts = np.unique(kmeans.labels_, return_counts=True)\nprint (np.asarray((unique, counts)).T)"
        }, 
        {
            "execution_count": null, 
            "cell_type": "code", 
            "metadata": {}, 
            "outputs": [], 
            "source": ""
        }, 
        {
            "execution_count": null, 
            "cell_type": "code", 
            "metadata": {}, 
            "outputs": [], 
            "source": ""
        }, 
        {
            "execution_count": null, 
            "cell_type": "code", 
            "metadata": {}, 
            "outputs": [], 
            "source": ""
        }, 
        {
            "source": "#### Extract post codes from GeoJason file of Hamburg ", 
            "cell_type": "markdown", 
            "metadata": {}
        }, 
        {
            "execution_count": 17, 
            "cell_type": "code", 
            "metadata": {}, 
            "outputs": [], 
            "source": "import json # library to handle JSON files"
        }, 
        {
            "execution_count": 18, 
            "cell_type": "code", 
            "metadata": {}, 
            "outputs": [], 
            "source": "# read jso from Hamburg with post code polygons\nwith open('plz-5stellig.geojson') as json_data:\n    hamburg_data = json.load(json_data)"
        }, 
        {
            "execution_count": 19, 
            "cell_type": "code", 
            "metadata": {}, 
            "outputs": [], 
            "source": "#hamburg_data"
        }, 
        {
            "execution_count": 69, 
            "cell_type": "code", 
            "metadata": {}, 
            "outputs": [], 
            "source": "plz_data = hamburg_data['features']"
        }, 
        {
            "execution_count": 22, 
            "cell_type": "code", 
            "metadata": {}, 
            "outputs": [], 
            "source": "# define the dataframe columns\ncolumn_names = ['postal_code', 'population', 'postal_code_area' ,'polygon'] \n\n# instantiate the dataframe\ndf_coordplz = pd.DataFrame(columns=column_names)"
        }, 
        {
            "execution_count": 24, 
            "cell_type": "code", 
            "metadata": {}, 
            "outputs": [], 
            "source": "for data in plz_data:\n    plzn = data['properties']['plz'] \n    population = data['properties']['einwohner']\n    postalcodearea = data['properties']['qkm']\n    \n    plz_polygon = data['geometry']['coordinates'][0]\n    \n    df_coordplz = df_coordplz.append({'postal_code': plzn,\n                                          'population': population,\n                                          'postal_code_area': postalcodearea,\n                                          'polygon': plz_polygon}, ignore_index=True)"
        }, 
        {
            "execution_count": 62, 
            "cell_type": "code", 
            "metadata": {}, 
            "outputs": [
                {
                    "execution_count": 62, 
                    "metadata": {}, 
                    "data": {
                        "text/plain": "(105, 1)"
                    }, 
                    "output_type": "execute_result"
                }
            ], 
            "source": "list_plz = []\nfor nn in df_neigh['post_codes']:\n    for t in nn.split(','):\n        list_plz.append(t)\n        \nlist_plz = pd.DataFrame(list(set(list_plz)),columns=['postal_code'])\nlist_plz.shape"
        }, 
        {
            "execution_count": 66, 
            "cell_type": "code", 
            "metadata": {}, 
            "outputs": [], 
            "source": "# select the post code of hamburg\ndf_coordplz_hh = pd.merge(df_coordplz, list_plz, how='right', on=['postal_code'])"
        }, 
        {
            "execution_count": 68, 
            "cell_type": "code", 
            "metadata": {}, 
            "outputs": [
                {
                    "execution_count": 68, 
                    "metadata": {}, 
                    "data": {
                        "text/html": "<div>\n<style scoped>\n    .dataframe tbody tr th:only-of-type {\n        vertical-align: middle;\n    }\n\n    .dataframe tbody tr th {\n        vertical-align: top;\n    }\n\n    .dataframe thead th {\n        text-align: right;\n    }\n</style>\n<table border=\"1\" class=\"dataframe\">\n  <thead>\n    <tr style=\"text-align: right;\">\n      <th></th>\n      <th>postal_code</th>\n      <th>population</th>\n      <th>postal_code_area</th>\n      <th>polygon</th>\n    </tr>\n  </thead>\n  <tbody>\n    <tr>\n      <th>0</th>\n      <td>20095</td>\n      <td>3172</td>\n      <td>0.759332</td>\n      <td>[[9.9911721, 53.5511273], [9.9917439, 53.55136...</td>\n    </tr>\n    <tr>\n      <th>1</th>\n      <td>20097</td>\n      <td>1690</td>\n      <td>1.968448</td>\n      <td>[[10.006869500000002, 53.5457261], [10.0076566...</td>\n    </tr>\n    <tr>\n      <th>2</th>\n      <td>20099</td>\n      <td>9050</td>\n      <td>1.588046</td>\n      <td>[[9.9973681, 53.5569902], [9.9974811, 53.55712...</td>\n    </tr>\n    <tr>\n      <th>3</th>\n      <td>20144</td>\n      <td>11315</td>\n      <td>0.939591</td>\n      <td>[[9.9678144, 53.5731396], [9.9680212, 53.57311...</td>\n    </tr>\n    <tr>\n      <th>4</th>\n      <td>20146</td>\n      <td>10469</td>\n      <td>0.931351</td>\n      <td>[[9.9708645, 53.5676491], [9.9751571, 53.56969...</td>\n    </tr>\n  </tbody>\n</table>\n</div>", 
                        "text/plain": "  postal_code population  postal_code_area  \\\n0       20095       3172          0.759332   \n1       20097       1690          1.968448   \n2       20099       9050          1.588046   \n3       20144      11315          0.939591   \n4       20146      10469          0.931351   \n\n                                             polygon  \n0  [[9.9911721, 53.5511273], [9.9917439, 53.55136...  \n1  [[10.006869500000002, 53.5457261], [10.0076566...  \n2  [[9.9973681, 53.5569902], [9.9974811, 53.55712...  \n3  [[9.9678144, 53.5731396], [9.9680212, 53.57311...  \n4  [[9.9708645, 53.5676491], [9.9751571, 53.56969...  "
                    }, 
                    "output_type": "execute_result"
                }
            ], 
            "source": "df_coordplz_hh.head()"
        }, 
        {
            "execution_count": null, 
            "cell_type": "code", 
            "metadata": {}, 
            "outputs": [], 
            "source": ""
        }, 
        {
            "execution_count": null, 
            "cell_type": "code", 
            "metadata": {}, 
            "outputs": [], 
            "source": ""
        }, 
        {
            "execution_count": null, 
            "cell_type": "code", 
            "metadata": {}, 
            "outputs": [], 
            "source": ""
        }, 
        {
            "execution_count": null, 
            "cell_type": "code", 
            "metadata": {}, 
            "outputs": [], 
            "source": ""
        }, 
        {
            "execution_count": null, 
            "cell_type": "code", 
            "metadata": {}, 
            "outputs": [], 
            "source": ""
        }, 
        {
            "execution_count": 79, 
            "cell_type": "code", 
            "metadata": {}, 
            "outputs": [], 
            "source": "latitude = float(df_neigh.loc[1, 'coord_nord'])\nlongitude = float(df_neigh.loc[1, 'coord_east'])\nmap_hamburg = folium.Map(location=[latitude, longitude], zoom_start=11)\nfolium.CircleMarker([float(latitude), float(longitude)], radius=6, popup='Center', color='red', fill=True, fill_color='#3186cc', fill_opacity=0.6, parse_html=False).add_to(map_hamburg) \n\n# add markers to map\nfor lat, lng, label in zip(nearby_venues['lat'], nearby_venues['lng'], nearby_venues['name']):\n    label = folium.Popup(label, parse_html=True)\n    folium.CircleMarker([float(lat), float(lng)],radius=4,popup=label,color='blue',fill=True,fill_color='#3186cc',fill_opacity=0.6,parse_html=False).add_to(map_hamburg)  \n#map_hamburg"
        }, 
        {
            "execution_count": null, 
            "cell_type": "code", 
            "metadata": {}, 
            "outputs": [], 
            "source": ""
        }, 
        {
            "execution_count": null, 
            "cell_type": "code", 
            "metadata": {}, 
            "outputs": [], 
            "source": ""
        }
    ], 
    "metadata": {
        "kernelspec": {
            "display_name": "Python 3.5", 
            "name": "python3", 
            "language": "python"
        }, 
        "language_info": {
            "mimetype": "text/x-python", 
            "nbconvert_exporter": "python", 
            "version": "3.5.5", 
            "name": "python", 
            "file_extension": ".py", 
            "pygments_lexer": "ipython3", 
            "codemirror_mode": {
                "version": 3, 
                "name": "ipython"
            }
        }
    }, 
    "nbformat": 4
}