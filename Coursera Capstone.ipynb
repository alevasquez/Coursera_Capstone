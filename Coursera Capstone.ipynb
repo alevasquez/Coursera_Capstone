{
    "nbformat_minor": 1, 
    "cells": [
        {
            "source": "# Test", 
            "cell_type": "markdown", 
            "metadata": {}
        }, 
        {
            "execution_count": 1, 
            "cell_type": "code", 
            "metadata": {}, 
            "outputs": [
                {
                    "output_type": "stream", 
                    "name": "stdout", 
                    "text": "Fetching package metadata .............\nSolving package specifications: .\n\nPackage plan for installation in environment /opt/conda/envs/DSX-Python35:\n\nThe following NEW packages will be INSTALLED:\n\n    altair:  2.2.2-py35_1 conda-forge\n    branca:  0.3.1-py_0   conda-forge\n    folium:  0.5.0-py_0   conda-forge\n    vincent: 0.4.4-py_1   conda-forge\n\naltair-2.2.2-p 100% |################################| Time: 0:00:00  52.77 MB/s\nbranca-0.3.1-p 100% |################################| Time: 0:00:00  35.86 MB/s\nvincent-0.4.4- 100% |################################| Time: 0:00:00  39.92 MB/s\nfolium-0.5.0-p 100% |################################| Time: 0:00:00  48.26 MB/s\n"
                }
            ], 
            "source": "import numpy as np # library to handle data in a vectorized manner\nimport pandas as pd # library for data analsysis\n\nfrom pandas.io.json import json_normalize # tranform JSON file into a pandas dataframe\n\nfrom sklearn.cluster import KMeans\n\n# Matplotlib and associated plotting modules\nimport matplotlib.cm as cm\nimport matplotlib.colors as colors\nimport matplotlib.pyplot as plt # plotting library\n# backend for rendering plots within the browser\n%matplotlib inline\n\nimport csv\n\n#!pip install request\nimport requests # library to handle requests\n\n#!pip install beautifulsoup4 \nfrom bs4 import BeautifulSoup\n\n#!pip install lxml\n\n#!pip install html5lib\n\n#!conda install -c conda-forge geopy --yes # module Niminatim\nfrom geopy.geocoders import Nominatim # module to convert an address into latitude and longitude values\n\n!conda install -c conda-forge folium=0.5.0 --yes # uncomment this line if you haven't completed the Foursquare API lab\nimport folium\n"
        }, 
        {
            "source": "# Coursera Course - Applied Data Science Capstone\n## Housing prices - Hamburg", 
            "cell_type": "markdown", 
            "metadata": {
                "collapsed": true
            }
        }, 
        {
            "source": "### 1. Introduction", 
            "cell_type": "markdown", 
            "metadata": {}
        }, 
        {
            "source": "#### 1.1 Description of the problem\n", 
            "cell_type": "markdown", 
            "metadata": {}
        }, 
        {
            "source": "#### 1.2 Description of the data\n", 
            "cell_type": "markdown", 
            "metadata": {}
        }, 
        {
            "source": "##### i) Boroughs and neighborhoods", 
            "cell_type": "markdown", 
            "metadata": {}
        }, 
        {
            "source": "##### ii) Post codes", 
            "cell_type": "markdown", 
            "metadata": {}
        }, 
        {
            "source": "##### iv) Venues for each Post code?, Neighborhood? or Boroughs", 
            "cell_type": "markdown", 
            "metadata": {}
        }, 
        {
            "source": "##### v) Transport, Train stations, S-Bahn stations, Subway stations, Bus stations", 
            "cell_type": "markdown", 
            "metadata": {}
        }, 
        {
            "source": "##### vi) Housing prices, archiv and current ", 
            "cell_type": "markdown", 
            "metadata": {}
        }, 
        {
            "source": "####  Scrap wikipedia - Boroughs and Neighborhoods of Hamburg", 
            "cell_type": "markdown", 
            "metadata": {}
        }, 
        {
            "execution_count": 3, 
            "cell_type": "code", 
            "metadata": {}, 
            "outputs": [], 
            "source": "wiki_borough_link = \"https://de.wikipedia.org/wiki/Liste_der_Bezirke_und_Stadtteile_Hamburgs#Stadtteile\""
        }, 
        {
            "execution_count": 4, 
            "cell_type": "code", 
            "metadata": {}, 
            "outputs": [], 
            "source": "r= requests.get(wiki_borough_link)\nsoup = BeautifulSoup(r.text,'lxml')"
        }, 
        {
            "execution_count": 5, 
            "cell_type": "code", 
            "metadata": {}, 
            "outputs": [], 
            "source": "#print(soup.prettify())"
        }, 
        {
            "execution_count": 6, 
            "cell_type": "code", 
            "metadata": {}, 
            "outputs": [], 
            "source": "# define columns\ncol_names = ['neighborhood','borough','area','population', 'coord_nord','coord_east'] \n\n# initiate dataframe\ndf_neighborhoods = pd.DataFrame(columns=col_names)"
        }, 
        {
            "execution_count": 7, 
            "cell_type": "code", 
            "metadata": {}, 
            "outputs": [], 
            "source": "# Function to transform coordinates from geographic to decimal\ndef convert_decimal(coordinate):\n    coord = ''.join(coordinate.split())[:-2].upper()\n    coord_d, coord_m, coord_s = coord.replace(\"\u00b0\",\"_\").replace(\"\u2032\",\"_\").split('_')                            \n    coord = \"{0:.5f}\".format(float(coord_d) + (float(coord_m) / 60) + (float(coord_s) / 3600))\n    return coord"
        }, 
        {
            "execution_count": 8, 
            "cell_type": "code", 
            "metadata": {}, 
            "outputs": [], 
            "source": "table = soup.find_all('table', class_='wikitable sortable')\n# iterate over it\nwikidatasaved = []\nfor item in table[1].find('tbody').find_all('tr'):\n    wikidata = []\n    for data in item.find_all('td'):\n        wikidata.append(data.text.strip())\n    \n    #print(wikidata[0:8])\n    if len(wikidata) > 0:\n            wikidata[0], b = wikidata[0].split(\"!\")\n            b, wikidata[3] = wikidata[3].split(\"!\")\n            coord_n, coord_e = wikidata[6].split(\",\")\n            coord_n = convert_decimal(coord_n)\n            coord_e = convert_decimal(coord_e)\n            df_neighborhoods = df_neighborhoods.append({'neighborhood': wikidata[0],'borough': wikidata[2], 'area' : wikidata[3], 'population' : wikidata[4], 'coord_nord':coord_n, 'coord_east':coord_e}, ignore_index=True)\n            "
        }, 
        {
            "execution_count": 9, 
            "cell_type": "code", 
            "metadata": {}, 
            "outputs": [
                {
                    "execution_count": 9, 
                    "metadata": {}, 
                    "data": {
                        "text/html": "<div>\n<style scoped>\n    .dataframe tbody tr th:only-of-type {\n        vertical-align: middle;\n    }\n\n    .dataframe tbody tr th {\n        vertical-align: top;\n    }\n\n    .dataframe thead th {\n        text-align: right;\n    }\n</style>\n<table border=\"1\" class=\"dataframe\">\n  <thead>\n    <tr style=\"text-align: right;\">\n      <th></th>\n      <th>neighborhood</th>\n      <th>borough</th>\n      <th>area</th>\n      <th>population</th>\n      <th>coord_nord</th>\n      <th>coord_east</th>\n    </tr>\n  </thead>\n  <tbody>\n    <tr>\n      <th>0</th>\n      <td>Hamburg-Altstadt</td>\n      <td>Hamburg-Mitte</td>\n      <td>2,4</td>\n      <td>2305</td>\n      <td>53.55000</td>\n      <td>10.00000</td>\n    </tr>\n    <tr>\n      <th>1</th>\n      <td>HafenCity</td>\n      <td>Hamburg-Mitte</td>\n      <td>2,2</td>\n      <td>3627</td>\n      <td>53.54111</td>\n      <td>10.00028</td>\n    </tr>\n    <tr>\n      <th>2</th>\n      <td>Neustadt</td>\n      <td>Hamburg-Mitte</td>\n      <td>2,3</td>\n      <td>12.719</td>\n      <td>53.55194</td>\n      <td>9.98556</td>\n    </tr>\n    <tr>\n      <th>3</th>\n      <td>St.Pauli</td>\n      <td>Hamburg-Mitte</td>\n      <td>2,5</td>\n      <td>22.501</td>\n      <td>53.55694</td>\n      <td>9.96389</td>\n    </tr>\n    <tr>\n      <th>4</th>\n      <td>St.Georg</td>\n      <td>Hamburg-Mitte</td>\n      <td>2,4</td>\n      <td>11.055</td>\n      <td>53.55500</td>\n      <td>10.01222</td>\n    </tr>\n  </tbody>\n</table>\n</div>", 
                        "text/plain": "       neighborhood        borough area population coord_nord coord_east\n0  Hamburg-Altstadt  Hamburg-Mitte  2,4       2305   53.55000   10.00000\n1         HafenCity  Hamburg-Mitte  2,2       3627   53.54111   10.00028\n2          Neustadt  Hamburg-Mitte  2,3     12.719   53.55194    9.98556\n3          St.Pauli  Hamburg-Mitte  2,5     22.501   53.55694    9.96389\n4          St.Georg  Hamburg-Mitte  2,4     11.055   53.55500   10.01222"
                    }, 
                    "output_type": "execute_result"
                }
            ], 
            "source": "df_neighborhoods.head()"
        }, 
        {
            "source": "####  Scrap hamburg.de - post codes of hamburg", 
            "cell_type": "markdown", 
            "metadata": {}
        }, 
        {
            "execution_count": 10, 
            "cell_type": "code", 
            "metadata": {}, 
            "outputs": [], 
            "source": "plz_link = \"https://www.hamburg.de/postleitzahlen/\""
        }, 
        {
            "execution_count": 11, 
            "cell_type": "code", 
            "metadata": {}, 
            "outputs": [], 
            "source": "r= requests.get(plz_link)\nsoup = BeautifulSoup(r.text,'lxml')\n#print(soup.prettify())"
        }, 
        {
            "execution_count": 12, 
            "cell_type": "code", 
            "metadata": {}, 
            "outputs": [], 
            "source": "# define columns\ncol_plz_names = ['neighborhood','post codes'] \n\n# initiate dataframe\ndf_plz = pd.DataFrame(columns=col_plz_names)"
        }, 
        {
            "execution_count": 13, 
            "cell_type": "code", 
            "metadata": {}, 
            "outputs": [
                {
                    "execution_count": 13, 
                    "metadata": {}, 
                    "data": {
                        "text/html": "<div>\n<style scoped>\n    .dataframe tbody tr th:only-of-type {\n        vertical-align: middle;\n    }\n\n    .dataframe tbody tr th {\n        vertical-align: top;\n    }\n\n    .dataframe thead th {\n        text-align: right;\n    }\n</style>\n<table border=\"1\" class=\"dataframe\">\n  <thead>\n    <tr style=\"text-align: right;\">\n      <th></th>\n      <th>neighborhood</th>\n      <th>post codes</th>\n    </tr>\n  </thead>\n  <tbody>\n    <tr>\n      <th>0</th>\n      <td>Allerm\u00f6he</td>\n      <td>21035,21037,21113</td>\n    </tr>\n    <tr>\n      <th>1</th>\n      <td>Alsterdorf</td>\n      <td>20251,22297,22335,22337</td>\n    </tr>\n    <tr>\n      <th>2</th>\n      <td>Altengamme</td>\n      <td>21029,21039</td>\n    </tr>\n    <tr>\n      <th>3</th>\n      <td>Altenwerder</td>\n      <td>21129</td>\n    </tr>\n    <tr>\n      <th>4</th>\n      <td>Altona-Altstadt</td>\n      <td>20359,22765,22767,22769</td>\n    </tr>\n  </tbody>\n</table>\n</div>", 
                        "text/plain": "      neighborhood               post codes\n0        Allerm\u00f6he        21035,21037,21113\n1       Alsterdorf  20251,22297,22335,22337\n2       Altengamme              21029,21039\n3      Altenwerder                    21129\n4  Altona-Altstadt  20359,22765,22767,22769"
                    }, 
                    "output_type": "execute_result"
                }
            ], 
            "source": "table = soup.find_all('table')\n# iterate over it\ndatasaved = []\nfor item in table[0].find('tbody').find_all('tr'):\n    plzdata = []\n    for data in item.find_all('td'):\n        if data.text.strip() != '':\n            plzdata.append(data.text.strip())\n    df_plz = df_plz.append({'neighborhood': plzdata[0],'post codes': \",\".join(plzdata[1:len(plzdata)])}, ignore_index=True)\n\ndf_plz.head()"
        }, 
        {
            "execution_count": 49, 
            "cell_type": "code", 
            "metadata": {}, 
            "outputs": [
                {
                    "execution_count": 49, 
                    "metadata": {}, 
                    "data": {
                        "text/html": "<div>\n<style scoped>\n    .dataframe tbody tr th:only-of-type {\n        vertical-align: middle;\n    }\n\n    .dataframe tbody tr th {\n        vertical-align: top;\n    }\n\n    .dataframe thead th {\n        text-align: right;\n    }\n</style>\n<table border=\"1\" class=\"dataframe\">\n  <thead>\n    <tr style=\"text-align: right;\">\n      <th></th>\n      <th>neighborhood</th>\n      <th>borough</th>\n      <th>area</th>\n      <th>population</th>\n      <th>coord_nord</th>\n      <th>coord_east</th>\n      <th>post codes</th>\n    </tr>\n  </thead>\n  <tbody>\n    <tr>\n      <th>81</th>\n      <td>Allermohe</td>\n      <td>Bergedorf</td>\n      <td>8,6</td>\n      <td>1361</td>\n      <td>53.48611</td>\n      <td>10.15417</td>\n      <td>NaN</td>\n    </tr>\n    <tr>\n      <th>45</th>\n      <td>Alsterdorf</td>\n      <td>Hamburg-Nord</td>\n      <td>3,2</td>\n      <td>15.031</td>\n      <td>53.61083</td>\n      <td>10.01306</td>\n      <td>20251,22297,22335,22337</td>\n    </tr>\n    <tr>\n      <th>76</th>\n      <td>Altengamme</td>\n      <td>Bergedorf</td>\n      <td>15,6</td>\n      <td>2246</td>\n      <td>53.42472</td>\n      <td>10.26250</td>\n      <td>21029,21039</td>\n    </tr>\n    <tr>\n      <th>98</th>\n      <td>Altenwerder</td>\n      <td>Harburg</td>\n      <td>6,7</td>\n      <td>3</td>\n      <td>53.50694</td>\n      <td>9.91778</td>\n      <td>21129</td>\n    </tr>\n    <tr>\n      <th>19</th>\n      <td>Altona-Altstadt</td>\n      <td>Altona</td>\n      <td>2,8</td>\n      <td>22.946</td>\n      <td>53.54889</td>\n      <td>9.94778</td>\n      <td>20359,22765,22767,22769</td>\n    </tr>\n  </tbody>\n</table>\n</div>", 
                        "text/plain": "       neighborhood       borough  area population coord_nord coord_east  \\\n81        Allermohe     Bergedorf   8,6       1361   53.48611   10.15417   \n45       Alsterdorf  Hamburg-Nord   3,2     15.031   53.61083   10.01306   \n76       Altengamme     Bergedorf  15,6       2246   53.42472   10.26250   \n98      Altenwerder       Harburg   6,7          3   53.50694    9.91778   \n19  Altona-Altstadt        Altona   2,8     22.946   53.54889    9.94778   \n\n                 post codes  \n81                      NaN  \n45  20251,22297,22335,22337  \n76              21029,21039  \n98                    21129  \n19  20359,22765,22767,22769  "
                    }, 
                    "output_type": "execute_result"
                }
            ], 
            "source": "df_neigh = pd.merge(df_neighborhoods, df_plz, on='neighborhood',how='left')\ndf_neigh.sort_values(by='neighborhood').head()"
        }, 
        {
            "execution_count": 50, 
            "cell_type": "code", 
            "metadata": {}, 
            "outputs": [], 
            "source": "import math\nfrom difflib import SequenceMatcher"
        }, 
        {
            "execution_count": 54, 
            "cell_type": "code", 
            "metadata": {}, 
            "outputs": [
                {
                    "output_type": "stream", 
                    "name": "stdout", 
                    "text": "HafenCity nan\nHafenCity nan <- Hafencity   20457,20539\nSt.Pauli nan\nSt.Pauli nan <- St. Pauli   20354,20355,20357,20359,22767,22769\nSt.Georg nan\nSt.Georg nan <- St. Georg   20095,20097,20099\nSulldorf nan\nEimsbuttel nan\nEimsbuttel nan <- Eimsb\u00fcttel   20144,20253,20255,20257,20259,20357\nBarmbek-Sud nan\nBarmbek-Sud nan <- Barmbek-S\u00fcd   22081,22083,22085,22305\nFuhlsbuttel nan\nFuhlsbuttel nan <- Fuhlsb\u00fcttel   22335,22339,22415\nWellingsbuttel nan\nWellingsbuttel nan <- Wellingsb\u00fcttel   22391,22393\nPoppenbuttel nan\nPoppenbuttel nan <- Poppenb\u00fcttel   22391,22393,22395,22399\nHummelsbuttel nan\nHummelsbuttel nan <- Hummelsb\u00fcttel   22339,22391,22399,22145,22417\nLohbrugge nan\nLohbrugge nan <- Lohbr\u00fcgge   21031,21033,22113,22115\nAllermohe nan\nAllermohe nan <- Allerm\u00f6he   21035,21037,21113\nNeuallermohe nan\nNeuallermohe nan <- Neuallerm\u00f6he   21035\nRonneburg nan\nRonneburg nan <- R\u00f6nneburg   21077,21079\nEissendorf nan\nEissendorf nan <- Ei\u00dfendorf   21073,21075,21077\n"
                }
            ], 
            "source": "# fucntion to evaluate the similarity of two strings\ndef similar(a, b):\n    return SequenceMatcher(None, a, b).ratio()\n\nfor index, row in df_neigh.iterrows():\n     if isinstance(row[6],str) != True:\n            print(row[0],row[6])\n            for index_plz, row_plz in df_plz.iterrows():\n                \n                if similar(row[0],row_plz[0]) > 0.8:\n                    print(row[0],row[6],\"<-\",row_plz[0],\" \",row_plz[1])\n                    #row[6] = row_plz[1]"
        }, 
        {
            "execution_count": 48, 
            "cell_type": "code", 
            "metadata": {}, 
            "outputs": [
                {
                    "execution_count": 48, 
                    "metadata": {}, 
                    "data": {
                        "text/html": "<div>\n<style scoped>\n    .dataframe tbody tr th:only-of-type {\n        vertical-align: middle;\n    }\n\n    .dataframe tbody tr th {\n        vertical-align: top;\n    }\n\n    .dataframe thead th {\n        text-align: right;\n    }\n</style>\n<table border=\"1\" class=\"dataframe\">\n  <thead>\n    <tr style=\"text-align: right;\">\n      <th></th>\n      <th>neighborhood</th>\n      <th>borough</th>\n      <th>area</th>\n      <th>population</th>\n      <th>coord_nord</th>\n      <th>coord_east</th>\n      <th>post codes</th>\n    </tr>\n  </thead>\n  <tbody>\n    <tr>\n      <th>3</th>\n      <td>St.Pauli</td>\n      <td>Hamburg-Mitte</td>\n      <td>2,5</td>\n      <td>22.501</td>\n      <td>53.55694</td>\n      <td>9.96389</td>\n      <td>NaN</td>\n    </tr>\n    <tr>\n      <th>4</th>\n      <td>St.Georg</td>\n      <td>Hamburg-Mitte</td>\n      <td>2,4</td>\n      <td>11.055</td>\n      <td>53.55500</td>\n      <td>10.01222</td>\n      <td>NaN</td>\n    </tr>\n    <tr>\n      <th>15</th>\n      <td>Steinwerder</td>\n      <td>Hamburg-Mitte</td>\n      <td>7,4</td>\n      <td>38</td>\n      <td>53.53444</td>\n      <td>9.95722</td>\n      <td>20457,21107</td>\n    </tr>\n    <tr>\n      <th>20</th>\n      <td>Sternschanze</td>\n      <td>Altona</td>\n      <td>0,5</td>\n      <td>8080</td>\n      <td>53.56167</td>\n      <td>9.96222</td>\n      <td>20537,20539,22767,22769</td>\n    </tr>\n    <tr>\n      <th>31</th>\n      <td>Sulldorf</td>\n      <td>Altona</td>\n      <td>5,7</td>\n      <td>9542</td>\n      <td>53.58500</td>\n      <td>9.79417</td>\n      <td>NaN</td>\n    </tr>\n    <tr>\n      <th>39</th>\n      <td>Schnelsen</td>\n      <td>Eimsb\u00fcttel</td>\n      <td>9,0</td>\n      <td>29.578</td>\n      <td>53.63333</td>\n      <td>9.91667</td>\n      <td>22457,22459</td>\n    </tr>\n    <tr>\n      <th>41</th>\n      <td>Stellingen</td>\n      <td>Eimsb\u00fcttel</td>\n      <td>5,8</td>\n      <td>25.753</td>\n      <td>53.59222</td>\n      <td>9.92861</td>\n      <td>20255,22525,22527,22529,22769</td>\n    </tr>\n    <tr>\n      <th>62</th>\n      <td>Steilshoop</td>\n      <td>Wandsbek</td>\n      <td>2,5</td>\n      <td>19.662</td>\n      <td>53.61028</td>\n      <td>10.05917</td>\n      <td>22177,22309</td>\n    </tr>\n    <tr>\n      <th>64</th>\n      <td>Sasel</td>\n      <td>Wandsbek</td>\n      <td>8,4</td>\n      <td>23.647</td>\n      <td>53.65389</td>\n      <td>10.11194</td>\n      <td>22159,22391,22393,22395</td>\n    </tr>\n    <tr>\n      <th>85</th>\n      <td>Spadenland</td>\n      <td>Bergedorf</td>\n      <td>3,4</td>\n      <td>514</td>\n      <td>53.50000</td>\n      <td>10.23333</td>\n      <td>21037</td>\n    </tr>\n    <tr>\n      <th>93</th>\n      <td>Sinstorf</td>\n      <td>Harburg</td>\n      <td>2,5</td>\n      <td>4102</td>\n      <td>53.42389</td>\n      <td>9.98056</td>\n      <td>21077,21079</td>\n    </tr>\n  </tbody>\n</table>\n</div>", 
                        "text/plain": "    neighborhood        borough area population coord_nord coord_east  \\\n3       St.Pauli  Hamburg-Mitte  2,5     22.501   53.55694    9.96389   \n4       St.Georg  Hamburg-Mitte  2,4     11.055   53.55500   10.01222   \n15   Steinwerder  Hamburg-Mitte  7,4         38   53.53444    9.95722   \n20  Sternschanze         Altona  0,5       8080   53.56167    9.96222   \n31      Sulldorf         Altona  5,7       9542   53.58500    9.79417   \n39     Schnelsen     Eimsb\u00fcttel  9,0     29.578   53.63333    9.91667   \n41    Stellingen     Eimsb\u00fcttel  5,8     25.753   53.59222    9.92861   \n62    Steilshoop       Wandsbek  2,5     19.662   53.61028   10.05917   \n64         Sasel       Wandsbek  8,4     23.647   53.65389   10.11194   \n85    Spadenland      Bergedorf  3,4        514   53.50000   10.23333   \n93      Sinstorf        Harburg  2,5       4102   53.42389    9.98056   \n\n                       post codes  \n3                             NaN  \n4                             NaN  \n15                    20457,21107  \n20        20537,20539,22767,22769  \n31                            NaN  \n39                    22457,22459  \n41  20255,22525,22527,22529,22769  \n62                    22177,22309  \n64        22159,22391,22393,22395  \n85                          21037  \n93                    21077,21079  "
                    }, 
                    "output_type": "execute_result"
                }
            ], 
            "source": "#df_neigh.sort_values(by='neighborhood').head()\ndf_neigh[df_neigh.neighborhood.str.startswith('S')]\n#df_neighborhoods[df_neighborhoods.neighborhood.str.startswith('S')]\n#df_plz[df_plz.neighborhood.str.startswith('S')]\n"
        }, 
        {
            "execution_count": null, 
            "cell_type": "code", 
            "metadata": {}, 
            "outputs": [], 
            "source": ""
        }
    ], 
    "metadata": {
        "kernelspec": {
            "display_name": "Python 3.5", 
            "name": "python3", 
            "language": "python"
        }, 
        "language_info": {
            "mimetype": "text/x-python", 
            "nbconvert_exporter": "python", 
            "version": "3.5.5", 
            "name": "python", 
            "file_extension": ".py", 
            "pygments_lexer": "ipython3", 
            "codemirror_mode": {
                "version": 3, 
                "name": "ipython"
            }
        }
    }, 
    "nbformat": 4
}